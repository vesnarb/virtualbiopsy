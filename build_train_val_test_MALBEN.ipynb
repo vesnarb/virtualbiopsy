{
 "cells": [
  {
   "cell_type": "markdown",
   "metadata": {},
   "source": [
    "### Imports "
   ]
  },
  {
   "cell_type": "code",
   "execution_count": 1,
   "metadata": {
    "collapsed": true
   },
   "outputs": [],
   "source": [
    "import pandas as pd\n",
    "import numpy as np\n",
    "import pickle as pkl\n",
    "import os\n",
    "import virtual_biopsy_utils as vbu\n",
    "import integration_images_features_utils as image_utils\n",
    "import ast\n",
    "import delong\n",
    "\n",
    "from sklearn.impute import SimpleImputer\n",
    "from sklearn.preprocessing import MinMaxScaler\n",
    "from sklearn.calibration import calibration_curve\n",
    "import matplotlib.pyplot as plt\n",
    "from sklearn.linear_model import LogisticRegression\n",
    "from sklearn.pipeline import Pipeline\n",
    "from sklearn.metrics import accuracy_score\n",
    "from sklearn.multiclass import OneVsRestClassifier\n",
    "from sklearn.metrics import roc_curve, auc, roc_auc_score, brier_score_loss, precision_score, recall_score\n",
    "from sklearn.calibration import CalibratedClassifierCV, calibration_curve\n",
    "from xgboost import XGBClassifier\n",
    "import xgboost as xgb\n",
    "from sklearn.model_selection import RandomizedSearchCV\n",
    "import shap"
   ]
  },
  {
   "cell_type": "code",
   "execution_count": 2,
   "metadata": {},
   "outputs": [
    {
     "name": "stdout",
     "output_type": "stream",
     "text": [
      "shape: (2395, 7713)\n"
     ]
    }
   ],
   "source": [
    "sen_data = vbu.load_sentara(path = '../pkls/sentara.pkl', overwrite=True)"
   ]
  },
  {
   "cell_type": "code",
   "execution_count": 3,
   "metadata": {},
   "outputs": [
    {
     "data": {
      "text/plain": [
       "1842"
      ]
     },
     "execution_count": 3,
     "metadata": {},
     "output_type": "execute_result"
    }
   ],
   "source": [
    "shared = pkl.load(open('../pkls/shared_features_mac_sen.pkl', 'rb'))\n",
    "\n",
    "len(shared)"
   ]
  },
  {
   "cell_type": "markdown",
   "metadata": {},
   "source": [
    "### Add calculated features to sentara"
   ]
  },
  {
   "cell_type": "markdown",
   "metadata": {},
   "source": [
    "* Add BMI estimation"
   ]
  },
  {
   "cell_type": "code",
   "execution_count": 4,
   "metadata": {
    "collapsed": true
   },
   "outputs": [],
   "source": [
    "sen_data = vbu.add_bmi_estimation_sentara(df=sen_data)"
   ]
  },
  {
   "cell_type": "markdown",
   "metadata": {},
   "source": [
    "* Add likelihood of obesity estimation"
   ]
  },
  {
   "cell_type": "code",
   "execution_count": 5,
   "metadata": {
    "collapsed": true
   },
   "outputs": [],
   "source": [
    "sen_data = vbu.add_likelihood_obesity_estimation_sentara(df=sen_data)"
   ]
  },
  {
   "cell_type": "markdown",
   "metadata": {},
   "source": [
    "* Breast density estimation"
   ]
  },
  {
   "cell_type": "code",
   "execution_count": 6,
   "metadata": {
    "collapsed": true
   },
   "outputs": [],
   "source": [
    "sen_data = vbu.add_density_estimation_sentara(df = sen_data)"
   ]
  },
  {
   "cell_type": "markdown",
   "metadata": {},
   "source": [
    "### Use shared  features only"
   ]
  },
  {
   "cell_type": "code",
   "execution_count": 7,
   "metadata": {
    "collapsed": true
   },
   "outputs": [],
   "source": [
    "sen_data = sen_data[shared]"
   ]
  },
  {
   "cell_type": "code",
   "execution_count": 8,
   "metadata": {
    "collapsed": true
   },
   "outputs": [],
   "source": [
    "sen_data['outcome_cancer_type_Malignant'] = sen_data['outcome_cancer_type_DCIS'] | sen_data['outcome_cancer_type_Invasive'] + 0\n",
    "sen_data['outcome_cancer_type_BenignAll'] = 1 - sen_data['outcome_cancer_type_Malignant'] + 0"
   ]
  },
  {
   "cell_type": "markdown",
   "metadata": {},
   "source": [
    "### Split data"
   ]
  },
  {
   "cell_type": "code",
   "execution_count": 9,
   "metadata": {},
   "outputs": [
    {
     "name": "stdout",
     "output_type": "stream",
     "text": [
      "Number of samples in train: 1685, val: 357 and test: 353\n"
     ]
    }
   ],
   "source": [
    "x_train, y_train, x_val, y_val, x_test, y_test = vbu.split_sentara(sen_data, \n",
    "                                train_path = '../pkls/sentara_train.pkl',\n",
    "                                val_path = '../pkls/sentara_val.pkl', \n",
    "                                test_path = '../pkls/sentara_test.pkl', overwrite = True)"
   ]
  },
  {
   "cell_type": "code",
   "execution_count": 10,
   "metadata": {},
   "outputs": [
    {
     "name": "stdout",
     "output_type": "stream",
     "text": [
      "(1685, 1830) (1685, 7) (357, 1830) (357, 7) (353, 1830) (353, 7)\n"
     ]
    }
   ],
   "source": [
    "print(x_train.shape, y_train.shape, x_val.shape, y_val.shape, x_test.shape, y_test.shape)"
   ]
  },
  {
   "cell_type": "markdown",
   "metadata": {},
   "source": [
    "### Add imaging features to all sets"
   ]
  },
  {
   "cell_type": "code",
   "execution_count": 11,
   "metadata": {},
   "outputs": [],
   "source": [
    "# file from image classifier with entire set (train, test, val)\n",
    "pred_file_path = '../input_files/final_tal_predictons_without_annotation_all.csv'\n",
    "\n",
    "\n",
    "pred = image_utils.compute_predictions_malignant_benign_images_sentara(pred_file_path)\n",
    "\n",
    "x_train = x_train.join(pred.set_index('study_id'), on='study_id')\n",
    "x_val = x_val.join(pred.set_index('study_id'), on='study_id')\n",
    "x_test = x_test.join(pred.set_index('study_id'), on='study_id')"
   ]
  },
  {
   "cell_type": "code",
   "execution_count": 12,
   "metadata": {},
   "outputs": [
    {
     "name": "stdout",
     "output_type": "stream",
     "text": [
      "(1685, 1862) (1685, 7) (357, 1862) (357, 7) (353, 1862) (353, 7)\n"
     ]
    }
   ],
   "source": [
    "print(x_train.shape, y_train.shape, x_val.shape, y_val.shape, x_test.shape, y_test.shape)"
   ]
  },
  {
   "cell_type": "code",
   "execution_count": 15,
   "metadata": {},
   "outputs": [
    {
     "data": {
      "text/plain": [
       "outcome_cancer_type_BenignHR       60\n",
       "outcome_cancer_type_DCIS          173\n",
       "outcome_cancer_type_Papilloma     100\n",
       "outcome_cancer_type_Invasive      440\n",
       "outcome_cancer_type_Benign        956\n",
       "outcome_cancer_type_Malignant     610\n",
       "outcome_cancer_type_BenignAll    1075\n",
       "dtype: int64"
      ]
     },
     "execution_count": 15,
     "metadata": {},
     "output_type": "execute_result"
    }
   ],
   "source": [
    "y_train.sum(axis=0)"
   ]
  },
  {
   "cell_type": "code",
   "execution_count": 16,
   "metadata": {},
   "outputs": [
    {
     "data": {
      "text/plain": [
       "outcome_cancer_type_BenignHR      11\n",
       "outcome_cancer_type_DCIS          44\n",
       "outcome_cancer_type_Papilloma     23\n",
       "outcome_cancer_type_Invasive      89\n",
       "outcome_cancer_type_Benign       202\n",
       "outcome_cancer_type_Malignant    132\n",
       "outcome_cancer_type_BenignAll    225\n",
       "dtype: int64"
      ]
     },
     "execution_count": 16,
     "metadata": {},
     "output_type": "execute_result"
    }
   ],
   "source": [
    "y_val.sum(axis=0)"
   ]
  },
  {
   "cell_type": "code",
   "execution_count": 17,
   "metadata": {},
   "outputs": [
    {
     "data": {
      "text/plain": [
       "outcome_cancer_type_BenignHR      10\n",
       "outcome_cancer_type_DCIS          40\n",
       "outcome_cancer_type_Papilloma     17\n",
       "outcome_cancer_type_Invasive      86\n",
       "outcome_cancer_type_Benign       205\n",
       "outcome_cancer_type_Malignant    126\n",
       "outcome_cancer_type_BenignAll    227\n",
       "dtype: int64"
      ]
     },
     "execution_count": 17,
     "metadata": {},
     "output_type": "execute_result"
    }
   ],
   "source": [
    "y_test.sum(axis=0)"
   ]
  },
  {
   "cell_type": "code",
   "execution_count": 13,
   "metadata": {},
   "outputs": [
    {
     "data": {
      "text/plain": [
       "[]"
      ]
     },
     "execution_count": 13,
     "metadata": {},
     "output_type": "execute_result"
    }
   ],
   "source": [
    "list(set(y_train.index.get_level_values(0).tolist()) - set(x_train.index.get_level_values(0).tolist()))"
   ]
  },
  {
   "cell_type": "code",
   "execution_count": 14,
   "metadata": {
    "collapsed": true
   },
   "outputs": [],
   "source": [
    "with open('../pkls/x_test_ready_for_testing_MALBEN.pkl', 'wb') as handle:\n",
    "    pkl.dump(x_test, handle, protocol=pkl.HIGHEST_PROTOCOL)\n",
    "\n",
    "with open('../pkls/y_test_ready_for_testing_MALBEN.pkl', 'wb') as handle:\n",
    "    pkl.dump(y_test, handle, protocol=pkl.HIGHEST_PROTOCOL)\n",
    "    \n",
    "with open('../pkls/x_train_ready_for_training_MALBEN.pkl', 'wb') as handle:\n",
    "    pkl.dump(x_train, handle, protocol=pkl.HIGHEST_PROTOCOL)\n",
    "    \n",
    "with open('../pkls/y_train_ready_for_training_MALBEN.pkl', 'wb') as handle:\n",
    "    pkl.dump(y_train, handle, protocol=pkl.HIGHEST_PROTOCOL)   \n",
    "    \n",
    "with open('../pkls/x_val_ready_for_training_MALBEN.pkl', 'wb') as handle:\n",
    "    pkl.dump(x_val, handle, protocol=pkl.HIGHEST_PROTOCOL)\n",
    "    \n",
    "with open('../pkls/y_val_ready_for_training_MALBEN.pkl', 'wb') as handle:\n",
    "    pkl.dump(y_val, handle, protocol=pkl.HIGHEST_PROTOCOL)"
   ]
  },
  {
   "cell_type": "code",
   "execution_count": null,
   "metadata": {
    "collapsed": true
   },
   "outputs": [],
   "source": []
  },
  {
   "cell_type": "code",
   "execution_count": null,
   "metadata": {
    "collapsed": true
   },
   "outputs": [],
   "source": []
  }
 ],
 "metadata": {
  "kernelspec": {
   "display_name": "Python 3 (ipykernel)",
   "language": "python",
   "name": "python3"
  },
  "language_info": {
   "codemirror_mode": {
    "name": "ipython",
    "version": 3
   },
   "file_extension": ".py",
   "mimetype": "text/x-python",
   "name": "python",
   "nbconvert_exporter": "python",
   "pygments_lexer": "ipython3",
   "version": "3.9.7"
  }
 },
 "nbformat": 4,
 "nbformat_minor": 2
}
