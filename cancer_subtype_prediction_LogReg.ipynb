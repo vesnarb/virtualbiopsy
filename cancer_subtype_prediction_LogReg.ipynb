{
 "cells": [
  {
   "cell_type": "code",
   "execution_count": 1,
   "metadata": {
    "collapsed": true
   },
   "outputs": [],
   "source": [
    "import pandas as pd\n",
    "import numpy as np\n",
    "import pickle as pkl\n",
    "import os\n",
    "import virtual_biopsy_utils as vbu\n",
    "import integration_images_features_utils as image_utils\n",
    "import ast\n",
    "import delong\n",
    "import shap\n",
    "\n",
    "from sklearn.impute import SimpleImputer\n",
    "from sklearn.preprocessing import MinMaxScaler\n",
    "import matplotlib.pyplot as plt\n",
    "from sklearn.linear_model import LogisticRegression\n",
    "from sklearn.pipeline import Pipeline\n",
    "from sklearn.metrics import accuracy_score\n",
    "from sklearn.multiclass import OneVsRestClassifier\n",
    "from sklearn.metrics import roc_curve, auc, roc_auc_score\n",
    "from sklearn.model_selection import train_test_split, RandomizedSearchCV, GridSearchCV"
   ]
  },
  {
   "cell_type": "markdown",
   "metadata": {},
   "source": [
    "### Load sentara"
   ]
  },
  {
   "cell_type": "code",
   "execution_count": 2,
   "metadata": {},
   "outputs": [
    {
     "name": "stdout",
     "output_type": "stream",
     "text": [
      "shape: (2395, 7713)\n"
     ]
    }
   ],
   "source": [
    "sen_data = vbu.load_sentara(path = '../pkls/sentara.pkl', overwrite=True)"
   ]
  },
  {
   "cell_type": "markdown",
   "metadata": {},
   "source": [
    "### Load shared features between maccabi and sentara "
   ]
  },
  {
   "cell_type": "code",
   "execution_count": 3,
   "metadata": {},
   "outputs": [
    {
     "data": {
      "text/plain": [
       "1850"
      ]
     },
     "execution_count": 3,
     "metadata": {},
     "output_type": "execute_result"
    }
   ],
   "source": [
    "shared = pkl.load(open('../pkls/shared_features_mac_sen.pkl', 'rb'))\n",
    "\n",
    "len(shared)"
   ]
  },
  {
   "cell_type": "markdown",
   "metadata": {},
   "source": [
    "### Load and add additional features from Ella: suspicious calcifications, spiculated leasions, arch distortion"
   ]
  },
  {
   "cell_type": "code",
   "execution_count": 4,
   "metadata": {
    "collapsed": true
   },
   "outputs": [],
   "source": [
    "# spic_lesions_studies = [x.split('\\t') for x in open('../input_files/additional_features_spiculated_lesions_sentara.txt').readlines()]\n",
    "# arch_dist_studies = [x.split('\\t') for x in open('../input_files/additional_features_architectural_distortion_sentara.txt').readlines()]\n",
    "# susp_calc_studies = [x.split('\\t') for x in open('../input_files/additional_features_suspicius_calcifications_sentara.txt').readlines()]\n",
    "\n",
    "# spic_lesions_studies = [item[1][:-1] for item in spic_lesions_studies[1:]]\n",
    "# arch_dist_studies = [item[1][:-1] for item in arch_dist_studies[1:]]\n",
    "# susp_calc_studies = [item[1][:-1] for item in susp_calc_studies[1:]]\n",
    "\n",
    "# sen_data['spiculated_lesions_report'] = np.array([x in spic_lesions_studies for x in sen_data.study_id.tolist()]).astype(int)\n",
    "# sen_data['architectural_distortion_report'] = np.array([x in arch_dist_studies for x in sen_data.study_id.tolist()]).astype(int)\n",
    "# sen_data['suspicious_calcifications_report'] = np.array([x in susp_calc_studies for x in sen_data.study_id.tolist()]).astype(int)"
   ]
  },
  {
   "cell_type": "markdown",
   "metadata": {},
   "source": [
    "### Add calculated features to sentara"
   ]
  },
  {
   "cell_type": "markdown",
   "metadata": {},
   "source": [
    "* Add BMI estimation"
   ]
  },
  {
   "cell_type": "code",
   "execution_count": 5,
   "metadata": {
    "collapsed": true
   },
   "outputs": [],
   "source": [
    "sen_data = vbu.add_bmi_estimation_sentara(df=sen_data)"
   ]
  },
  {
   "cell_type": "markdown",
   "metadata": {},
   "source": [
    "* Add likelihood of obesity estimation"
   ]
  },
  {
   "cell_type": "code",
   "execution_count": 6,
   "metadata": {
    "collapsed": true
   },
   "outputs": [],
   "source": [
    "sen_data = vbu.add_likelihood_obesity_estimation_sentara(df=sen_data)"
   ]
  },
  {
   "cell_type": "markdown",
   "metadata": {},
   "source": [
    "* Breast density estimation"
   ]
  },
  {
   "cell_type": "code",
   "execution_count": 7,
   "metadata": {
    "collapsed": true
   },
   "outputs": [],
   "source": [
    "sen_data = vbu.add_density_estimation_sentara(df = sen_data)"
   ]
  },
  {
   "cell_type": "markdown",
   "metadata": {},
   "source": [
    "### Use shared features only"
   ]
  },
  {
   "cell_type": "code",
   "execution_count": 8,
   "metadata": {
    "collapsed": true
   },
   "outputs": [],
   "source": [
    "sen_data = sen_data[shared]"
   ]
  },
  {
   "cell_type": "markdown",
   "metadata": {},
   "source": [
    "### Split data"
   ]
  },
  {
   "cell_type": "code",
   "execution_count": 9,
   "metadata": {},
   "outputs": [
    {
     "name": "stdout",
     "output_type": "stream",
     "text": [
      "Number of samples in train: 1685, val: 357 and test: 353\n"
     ]
    }
   ],
   "source": [
    "x_train, y_train, x_val, y_val, x_test, y_test = vbu.split_sentara(sen_data, \n",
    "                                train_path = '../pkls/sentara_train.pkl',\n",
    "                                val_path = '../pkls/sentara_val.pkl', \n",
    "                                test_path = '../pkls/sentara_test.pkl', overwrite = True)"
   ]
  },
  {
   "cell_type": "markdown",
   "metadata": {},
   "source": [
    "### Transform multilabel to single label - only on the train set"
   ]
  },
  {
   "cell_type": "code",
   "execution_count": 10,
   "metadata": {},
   "outputs": [
    {
     "name": "stdout",
     "output_type": "stream",
     "text": [
      "New number of samples of training set: 1729\n"
     ]
    }
   ],
   "source": [
    "sen_data_train = x_train.combine_first(y_train)\n",
    "\n",
    "cancers = [x for x in sen_data_train if 'outcome_cancer_type' in x]\n",
    "\n",
    "temp = []\n",
    "for _, row in sen_data_train.iterrows():\n",
    "    \n",
    "    cols_one = row[cancers].loc[lambda x:x==True].index\n",
    "    for col_name in cols_one:\n",
    "        temp_row = row.copy()\n",
    "        temp_row[cancers] = 0\n",
    "        temp_row[col_name] = 1\n",
    "        temp.append(temp_row)\n",
    "        \n",
    "sen_data_train = pd.DataFrame(temp)\n",
    "multiindex = sen_data_train.index.tolist()\n",
    "sen_data_train.reset_index(inplace=True)\n",
    "sen_data_train['patient_id'] = [item[1] for item in multiindex]\n",
    "sen_data_train['study_date'] = [item[2] for item in multiindex]\n",
    "sen_data_train.set_index(['patient_id', 'study_date'], inplace = True, append=True)\n",
    "sen_data_train.drop('index', axis = 1, inplace=True)\n",
    "print('New number of samples of training set: %d' %sen_data_train.shape[0])\n",
    "\n",
    "# Redefine new training dataframes with the single label samples\n",
    "y_train = sen_data_train[[x for x in sen_data_train.columns if x.startswith('outcome_cancer_')]]\n",
    "x_train = sen_data_train.drop(columns=[x for x in sen_data_train.columns if x.startswith('outcome_')])"
   ]
  },
  {
   "cell_type": "code",
   "execution_count": 11,
   "metadata": {
    "collapsed": true
   },
   "outputs": [],
   "source": [
    "y_val.to_csv('sentara_outputs_for_delong.csv')"
   ]
  },
  {
   "cell_type": "markdown",
   "metadata": {},
   "source": [
    "### Add imaging features to train and val sets"
   ]
  },
  {
   "cell_type": "markdown",
   "metadata": {},
   "source": [
    "* Predictions"
   ]
  },
  {
   "cell_type": "code",
   "execution_count": 12,
   "metadata": {
    "collapsed": true
   },
   "outputs": [],
   "source": [
    "pred_file_path = '../input_files/final_tal_predictons_without_annotation_train_and_val.csv'\n",
    "\n",
    "pred = image_utils.compute_predictions_images_sentara(pred_file_path)\n",
    "x_train = x_train.join(pred.set_index('study_id'), on='study_id')\n",
    "x_val = x_val.join(pred.set_index('study_id'), on='study_id')"
   ]
  },
  {
   "cell_type": "markdown",
   "metadata": {},
   "source": [
    "* Microcalcifications"
   ]
  },
  {
   "cell_type": "code",
   "execution_count": 13,
   "metadata": {
    "collapsed": true
   },
   "outputs": [],
   "source": [
    "# micro = image_utils.get_microcalc_features()\n",
    "# x_train = x_train.join(micro.set_index('study_id'), on='study_id')\n",
    "# x_val = x_val.join(micro.set_index('study_id'), on='study_id')"
   ]
  },
  {
   "cell_type": "markdown",
   "metadata": {},
   "source": [
    "* Findings size"
   ]
  },
  {
   "cell_type": "code",
   "execution_count": 14,
   "metadata": {
    "collapsed": true
   },
   "outputs": [],
   "source": [
    "# finding = image_utils.get_findings_size_features()\n",
    "# x_train = x_train.join(finding.set_index('study_id'), on='study_id')\n",
    "# x_val = x_val.join(finding.set_index('study_id'), on='study_id')"
   ]
  },
  {
   "cell_type": "markdown",
   "metadata": {},
   "source": [
    "* Findings_x_max "
   ]
  },
  {
   "cell_type": "code",
   "execution_count": 15,
   "metadata": {
    "collapsed": true
   },
   "outputs": [],
   "source": [
    "# finding_x = image_utils.get_findings_x_max_features(overwrite=False)\n",
    "\n",
    "# x_train = x_train.join(finding_x.set_index('study_id'), on='study_id')\n",
    "# x_val = x_val.join(finding_x.set_index('study_id'), on='study_id')"
   ]
  },
  {
   "cell_type": "markdown",
   "metadata": {},
   "source": [
    "* Findings_y_max "
   ]
  },
  {
   "cell_type": "code",
   "execution_count": 16,
   "metadata": {
    "collapsed": true
   },
   "outputs": [],
   "source": [
    "# finding_y = image_utils.get_findings_y_max_features(overwrite=False)\n",
    "\n",
    "# x_train = x_train.join(finding_y.set_index('study_id'), on='study_id')\n",
    "# x_val = x_val.join(finding_y.set_index('study_id'), on='study_id')"
   ]
  },
  {
   "cell_type": "markdown",
   "metadata": {},
   "source": [
    "* Types: Calcification, breast assymetry, tumor, architectural distortion, axillary lymphadenopathy"
   ]
  },
  {
   "cell_type": "code",
   "execution_count": 17,
   "metadata": {
    "collapsed": true
   },
   "outputs": [],
   "source": [
    "# types = image_utils.get_types_features(overwrite=False)\n",
    "\n",
    "# x_train = x_train.join(types.set_index('study_id'), on='study_id')\n",
    "# x_val = x_val.join(types.set_index('study_id'), on='study_id')"
   ]
  },
  {
   "cell_type": "markdown",
   "metadata": {},
   "source": [
    "#### Drop features we dont use"
   ]
  },
  {
   "cell_type": "code",
   "execution_count": 18,
   "metadata": {},
   "outputs": [
    {
     "name": "stdout",
     "output_type": "stream",
     "text": [
      "(1729, 1937) (357, 1937) (1729, 5) (357, 5)\n"
     ]
    }
   ],
   "source": [
    "# if clinical only or clinical+images:\n",
    "x_train.drop(columns=['study_id'], inplace=True) #studyid\n",
    "x_val.drop(columns=['study_id'], inplace=True)\n",
    "\n",
    "#if images only:\n",
    "# imaging_feats = [x for x in x_train if 'pred' in x]\n",
    "# x_train = x_train[imaging_feats]\n",
    "# x_val = x_val[imaging_feats]\n",
    "\n",
    "print(x_train.shape, x_val.shape, y_train.shape, y_val.shape)"
   ]
  },
  {
   "cell_type": "markdown",
   "metadata": {},
   "source": [
    "#### Fill missing values in categorical data"
   ]
  },
  {
   "cell_type": "code",
   "execution_count": 19,
   "metadata": {
    "collapsed": true
   },
   "outputs": [],
   "source": [
    "cat_feats = [x for x in x_train.columns if 'ind' in x] + [x for x in x_train.columns if 'cnt' in x] +\\\n",
    "              [ 'breast_density_past']\n",
    "\n",
    "x_train[cat_feats] = x_train[cat_feats].fillna(x_train[cat_feats].mode().iloc[0])\n",
    "x_val[cat_feats] = x_val[cat_feats].fillna(x_val[cat_feats].mode().iloc[0])"
   ]
  },
  {
   "cell_type": "markdown",
   "metadata": {},
   "source": [
    "### Logistic Regression "
   ]
  },
  {
   "cell_type": "code",
   "execution_count": 20,
   "metadata": {},
   "outputs": [
    {
     "name": "stdout",
     "output_type": "stream",
     "text": [
      "**Processing class outcome_cancer_type_DCIS ...**\n",
      "AUC is 0.68 [0.59, 0.76]\n",
      "\n",
      "\n",
      "**Processing class outcome_cancer_type_Invasive ...**\n",
      "AUC is 0.50 [0.42, 0.57]\n",
      "\n",
      "\n",
      "**Processing class outcome_cancer_type_BenignHR ...**\n",
      "AUC is 0.52 [0.33, 0.71]\n",
      "\n",
      "\n",
      "**Processing class outcome_cancer_type_Papilloma ...**\n",
      "AUC is 0.51 [0.38, 0.64]\n",
      "\n",
      "\n",
      "**Processing class outcome_cancer_type_Benign ...**\n",
      "AUC is 0.55 [0.48, 0.60]\n",
      "\n",
      "\n"
     ]
    }
   ],
   "source": [
    "categories = ['outcome_cancer_type_DCIS', 'outcome_cancer_type_Invasive', 'outcome_cancer_type_BenignHR',\n",
    "           'outcome_cancer_type_Papilloma', 'outcome_cancer_type_Benign']\n",
    "\n",
    "\n",
    "\n",
    "LogReg_pipeline = Pipeline([\n",
    "    ('imputation', SimpleImputer(missing_values = np.nan, strategy = 'mean')), # impute values with mean\n",
    "    ('scaler', MinMaxScaler()), \n",
    "    ('clf', OneVsRestClassifier(LogisticRegression(random_state = 42), n_jobs=-1)),\n",
    "])\n",
    "\n",
    "\n",
    "grid_params_lr = {'clf__estimator__C': [0.001, 0.01, 0.1, 1, 10],\n",
    "                 'clf__estimator__tol': [1e-3, 1e-4, 1e-5]}\n",
    "\n",
    "LR= RandomizedSearchCV(estimator = LogReg_pipeline,\n",
    "                 param_distributions = grid_params_lr,\n",
    "                 scoring = 'roc_auc', n_iter = 15,\n",
    "                 cv=10, random_state=42) \n",
    "\n",
    "predict_probs = []\n",
    "\n",
    "for category in categories:\n",
    "    print('**Processing class {} ...**'.format(category))\n",
    "    \n",
    "    if os.path.isfile('../pkls/cancer_prediction_shared_features_pkls/LogReg/feature_set_both/best_model_randomized_search_' + str(category) + '.pkl'):\n",
    "        best_model = pkl.load(open('../pkls/cancer_prediction_shared_features_pkls/LogReg/feature_set_both/best_model_randomized_search_' + str(category) + '.pkl', 'rb'))\n",
    "    else:\n",
    "    \n",
    "        LR.fit(x_train, y_train[category])\n",
    "        y_pred = LR.predict(x_val)\n",
    "\n",
    "\n",
    "        scores = LR.fit(x_train, y_train[category]).decision_function(x_val)\n",
    "        prob = LR.predict_proba(x_val)[:, 1]\n",
    "\n",
    "        predict_probs.append(prob)\n",
    "        \n",
    "        print('AUC is {:.2f} [{:.2f}, {:.2f}]'.format(roc_auc_score(y_val[category], \n",
    "                                        prob), *delong.get_delong_ci(prob, y_val[category])))\n",
    "\n",
    "        print('\\n')\n",
    "        \n",
    "        pkl.dump(LR.best_estimator_, open('../pkls/cancer_prediction_shared_features_pkls/LogReg/feature_set_both/best_model_randomized_search_' + str(category) + '.pkl', 'wb')) \n",
    "\n",
    "    \n",
    "#     if os.path.isfile('../pkls/cancer_prediction_pkls/LogReg/without dicom/best_model_randomized_search_' + str(category) + '.pkl'):\n",
    "#         best_model = pkl.load(open('../pkls/cancer_prediction_pkls/LogReg/without dicom/best_model_randomized_search_' + str(category) + '.pkl', 'rb'))\n",
    "    \n",
    "\n",
    "    #SHAP\n",
    "#     if os.path.isfile('../pkls/cancer_prediction_pkls/LogReg/shap_values_' + str(category) + '.pkl'):\n",
    "#         shap_values = pkl.load(open('../pkls/cancer_prediction_shared_features_pkls/LogReg/shap_values_' + str(category) + '.pkl', 'rb'))\n",
    "#     else:\n",
    "#         x_val_sample = shap.sample(x_val, 50)\n",
    "#         explainer = shap.KernelExplainer(best_model.predict_proba, x_val_sample) \n",
    "#         shap_values = explainer.shap_values(x_val_sample)\n",
    "#         pkl.dump(shap_values, open('../pkls/cancer_prediction_shared_features_pkls/LogReg/shap_values_' + str(category) + '.pkl', 'wb'))"
   ]
  },
  {
   "cell_type": "code",
   "execution_count": 21,
   "metadata": {
    "collapsed": true
   },
   "outputs": [],
   "source": [
    "np.savetxt('predict_probs_Logres_both.csv', predict_probs, delimiter=',')"
   ]
  },
  {
   "cell_type": "code",
   "execution_count": null,
   "metadata": {
    "collapsed": true
   },
   "outputs": [],
   "source": [
    "# x_val_sample = shap.sample(x_val, 50)\n",
    "# explainer = shap.KernelExplainer(LR.best_estimator_.predict_proba, x_val_sample) \n",
    "# shap_values = explainer.shap_values(x_val_sample)"
   ]
  },
  {
   "cell_type": "code",
   "execution_count": null,
   "metadata": {
    "collapsed": true
   },
   "outputs": [],
   "source": [
    "# shap.summary_plot(shap_values[1], x_val_sample, plot_type = \"dot\")"
   ]
  }
 ],
 "metadata": {
  "kernelspec": {
   "display_name": "Python 3",
   "language": "python",
   "name": "python3"
  },
  "language_info": {
   "codemirror_mode": {
    "name": "ipython",
    "version": 3
   },
   "file_extension": ".py",
   "mimetype": "text/x-python",
   "name": "python",
   "nbconvert_exporter": "python",
   "pygments_lexer": "ipython3",
   "version": "3.8.2"
  }
 },
 "nbformat": 4,
 "nbformat_minor": 4
}
