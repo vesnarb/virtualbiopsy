{
 "cells": [
  {
   "cell_type": "code",
   "execution_count": 1,
   "metadata": {
    "collapsed": true
   },
   "outputs": [],
   "source": [
    "import pandas as pd\n",
    "import numpy as np\n",
    "import pickle as pkl\n",
    "import os\n",
    "import virtual_biopsy_utils as vbu\n",
    "import integration_images_features_utils as image_utils\n",
    "import ast\n",
    "import delong\n",
    "import shap\n",
    "\n",
    "from sklearn.impute import SimpleImputer\n",
    "from sklearn.preprocessing import MinMaxScaler\n",
    "import matplotlib.pyplot as plt\n",
    "from sklearn.linear_model import LogisticRegression\n",
    "from sklearn.pipeline import Pipeline\n",
    "from sklearn.metrics import accuracy_score\n",
    "from sklearn.multiclass import OneVsRestClassifier\n",
    "from sklearn.metrics import roc_curve, auc, roc_auc_score\n",
    "from sklearn.ensemble import RandomForestClassifier\n",
    "from sklearn.model_selection import RandomizedSearchCV"
   ]
  },
  {
   "cell_type": "markdown",
   "metadata": {},
   "source": [
    "### Load sentara"
   ]
  },
  {
   "cell_type": "code",
   "execution_count": 2,
   "metadata": {},
   "outputs": [
    {
     "name": "stdout",
     "output_type": "stream",
     "text": [
      "shape: (2395, 7713)\n"
     ]
    }
   ],
   "source": [
    "sen_data = vbu.load_sentara(path = '../pkls/sentara.pkl', overwrite=True)"
   ]
  },
  {
   "cell_type": "markdown",
   "metadata": {},
   "source": [
    "### Load shared features between maccabi and sentara "
   ]
  },
  {
   "cell_type": "code",
   "execution_count": 3,
   "metadata": {},
   "outputs": [
    {
     "data": {
      "text/plain": [
       "1842"
      ]
     },
     "execution_count": 3,
     "metadata": {},
     "output_type": "execute_result"
    }
   ],
   "source": [
    "shared = pkl.load(open('../pkls/shared_features_mac_sen.pkl', 'rb'))\n",
    "\n",
    "len(shared)"
   ]
  },
  {
   "cell_type": "markdown",
   "metadata": {},
   "source": [
    "### Load shap feats"
   ]
  },
  {
   "cell_type": "code",
   "execution_count": 4,
   "metadata": {
    "collapsed": true
   },
   "outputs": [],
   "source": [
    "shap_feats = pkl.load(open('../pkls/sentara_union_shap_RF.pkl', 'rb'))\n",
    "\n",
    "shap_feats = list(set(shap_feats))"
   ]
  },
  {
   "cell_type": "markdown",
   "metadata": {},
   "source": [
    "### Add calculated features to sentara"
   ]
  },
  {
   "cell_type": "markdown",
   "metadata": {},
   "source": [
    "* Add BMI estimation"
   ]
  },
  {
   "cell_type": "code",
   "execution_count": 5,
   "metadata": {
    "collapsed": true
   },
   "outputs": [],
   "source": [
    "sen_data = vbu.add_bmi_estimation_sentara(df=sen_data)"
   ]
  },
  {
   "cell_type": "markdown",
   "metadata": {},
   "source": [
    "* Add likelihood of obesity estimation"
   ]
  },
  {
   "cell_type": "code",
   "execution_count": 6,
   "metadata": {
    "collapsed": true
   },
   "outputs": [],
   "source": [
    "sen_data = vbu.add_likelihood_obesity_estimation_sentara(df=sen_data)"
   ]
  },
  {
   "cell_type": "markdown",
   "metadata": {},
   "source": [
    "* Breast density estimation"
   ]
  },
  {
   "cell_type": "code",
   "execution_count": 7,
   "metadata": {
    "collapsed": true
   },
   "outputs": [],
   "source": [
    "sen_data = vbu.add_density_estimation_sentara(df = sen_data)"
   ]
  },
  {
   "cell_type": "markdown",
   "metadata": {},
   "source": [
    "### Use shared features only"
   ]
  },
  {
   "cell_type": "code",
   "execution_count": 8,
   "metadata": {
    "collapsed": true
   },
   "outputs": [],
   "source": [
    "sen_data = sen_data[shared]"
   ]
  },
  {
   "cell_type": "markdown",
   "metadata": {},
   "source": [
    "### Split data"
   ]
  },
  {
   "cell_type": "code",
   "execution_count": 9,
   "metadata": {},
   "outputs": [
    {
     "name": "stdout",
     "output_type": "stream",
     "text": [
      "Number of samples in train: 1685, val: 357 and test: 353\n"
     ]
    }
   ],
   "source": [
    "x_train, y_train, x_val, y_val, x_test, y_test = vbu.split_sentara(sen_data, \n",
    "                                train_path = '../pkls/sentara_train.pkl',\n",
    "                                val_path = '../pkls/sentara_val.pkl', \n",
    "                                test_path = '../pkls/sentara_test.pkl', overwrite = True)"
   ]
  },
  {
   "cell_type": "markdown",
   "metadata": {},
   "source": [
    "### Transform multilabel to single label - only on the train set"
   ]
  },
  {
   "cell_type": "code",
   "execution_count": 10,
   "metadata": {},
   "outputs": [
    {
     "name": "stdout",
     "output_type": "stream",
     "text": [
      "New number of samples of training set: 1729\n"
     ]
    }
   ],
   "source": [
    "sen_data_train = x_train.combine_first(y_train)\n",
    "\n",
    "cancers = [x for x in sen_data_train if 'outcome_cancer_type' in x]\n",
    "\n",
    "temp = []\n",
    "for _, row in sen_data_train.iterrows():\n",
    "    \n",
    "    cols_one = row[cancers].loc[lambda x:x==True].index\n",
    "    for col_name in cols_one:\n",
    "        temp_row = row.copy()\n",
    "        temp_row[cancers] = 0\n",
    "        temp_row[col_name] = 1\n",
    "        temp.append(temp_row)\n",
    "        \n",
    "sen_data_train = pd.DataFrame(temp)\n",
    "multiindex = sen_data_train.index.tolist()\n",
    "sen_data_train.reset_index(inplace=True)\n",
    "sen_data_train['patient_id'] = [item[1] for item in multiindex]\n",
    "sen_data_train['study_date'] = [item[2] for item in multiindex]\n",
    "sen_data_train.set_index(['patient_id', 'study_date'], inplace = True, append=True)\n",
    "sen_data_train.drop('index', axis = 1, inplace=True)\n",
    "print('New number of samples of training set: %d' %sen_data_train.shape[0])\n",
    "\n",
    "# Redefine new training dataframes with the single label samples\n",
    "y_train = sen_data_train[[x for x in sen_data_train.columns if x.startswith('outcome_cancer_')]]\n",
    "x_train = sen_data_train.drop(columns=[x for x in sen_data_train.columns if x.startswith('outcome_')])"
   ]
  },
  {
   "cell_type": "markdown",
   "metadata": {},
   "source": [
    "### Add imaging features to train and val sets"
   ]
  },
  {
   "cell_type": "markdown",
   "metadata": {},
   "source": [
    "* Predictions"
   ]
  },
  {
   "cell_type": "code",
   "execution_count": 11,
   "metadata": {
    "collapsed": true
   },
   "outputs": [],
   "source": [
    "pred_file_path = '../input_files/final_tal_predictons_without_annotation_train_and_val.csv'\n",
    "\n",
    "pred = image_utils.compute_predictions_images_sentara(pred_file_path)\n",
    "x_train = x_train.join(pred.set_index('study_id'), on='study_id')\n",
    "x_val = x_val.join(pred.set_index('study_id'), on='study_id')"
   ]
  },
  {
   "cell_type": "markdown",
   "metadata": {},
   "source": [
    "* Findings size"
   ]
  },
  {
   "cell_type": "code",
   "execution_count": 12,
   "metadata": {
    "collapsed": true
   },
   "outputs": [],
   "source": [
    "pred_file_path = '../input_files/final_tal_predictons_without_annotation_train_and_val.csv'\n",
    "\n",
    "finding_size = image_utils.compute_findings_size(pred_file_path)\n",
    "x_train = x_train.join(finding_size.set_index('study_id'), on='study_id')\n",
    "x_val = x_val.join(finding_size.set_index('study_id'), on='study_id')"
   ]
  },
  {
   "cell_type": "markdown",
   "metadata": {},
   "source": [
    "* Types: Calcification, breast assymetry, tumor, architectural distortion, axillary lymphadenopa"
   ]
  },
  {
   "cell_type": "code",
   "execution_count": 13,
   "metadata": {
    "collapsed": true
   },
   "outputs": [],
   "source": [
    "pred_file_path = '../input_files/final_tal_predictons_without_annotation_train_and_val.csv'\n",
    "\n",
    "types = image_utils.get_types(pred_file_path)\n",
    "x_train = x_train.join(types.set_index('study_id'), on='study_id')\n",
    "x_val = x_val.join(types.set_index('study_id'), on='study_id')"
   ]
  },
  {
   "cell_type": "markdown",
   "metadata": {},
   "source": [
    "* Microcalcifications and Macrocalcifications"
   ]
  },
  {
   "cell_type": "code",
   "execution_count": 14,
   "metadata": {
    "collapsed": true
   },
   "outputs": [],
   "source": [
    "pred_file_path = '../input_files/final_tal_predictons_without_annotation_train_and_val.csv'\n",
    "\n",
    "types = image_utils.get_micro_and_macro(pred_file_path)\n",
    "x_train = x_train.join(types.set_index('study_id'), on='study_id')\n",
    "x_val = x_val.join(types.set_index('study_id'), on='study_id')"
   ]
  },
  {
   "cell_type": "code",
   "execution_count": 15,
   "metadata": {
    "collapsed": true
   },
   "outputs": [],
   "source": [
    "# # adjust dtype to make xgboost run\n",
    "\n",
    "# x_train['LCC_micro'] = x_train['LCC_micro'].astype('int') \n",
    "# x_train['RCC_micro'] = x_train['RCC_micro'].astype('int')\n",
    "# x_train['LMLO_micro'] = x_train['LMLO_micro'].astype('int')\n",
    "# x_train['RMLO_micro'] = x_train['RMLO_micro'].astype('int')\n",
    "\n",
    "# x_val['LCC_micro'] = x_val['LCC_micro'].astype('int')\n",
    "# x_val['RCC_micro'] = x_val['RCC_micro'].astype('int')\n",
    "# x_val['LMLO_micro'] = x_val['LMLO_micro'].astype('int')\n",
    "# x_val['RMLO_micro'] = x_val['RMLO_micro'].astype('int')"
   ]
  },
  {
   "cell_type": "markdown",
   "metadata": {},
   "source": [
    "* Ella's features"
   ]
  },
  {
   "cell_type": "code",
   "execution_count": 16,
   "metadata": {
    "collapsed": true
   },
   "outputs": [],
   "source": [
    "spic_lesions_studies = [x.split('\\t') for x in open('../input_files/additional_features_spiculated_lesions_sentara.txt').readlines()]\n",
    "arch_dist_studies = [x.split('\\t') for x in open('../input_files/additional_features_architectural_distortion_sentara.txt').readlines()]\n",
    "susp_calc_studies = [x.split('\\t') for x in open('../input_files/additional_features_suspicius_calcifications_sentara.txt').readlines()]\n",
    "\n",
    "spic_lesions_studies = [item[1][:-1] for item in spic_lesions_studies[1:]]\n",
    "arch_dist_studies = [item[1][:-1] for item in arch_dist_studies[1:]]\n",
    "susp_calc_studies = [item[1][:-1] for item in susp_calc_studies[1:]]\n",
    "\n",
    "x_train['spiculated_lesions_report'] = np.array([x in spic_lesions_studies for x in x_train.study_id.tolist()]).astype(int)\n",
    "x_train['architectural_distortion_report'] = np.array([x in arch_dist_studies for x in x_train.study_id.tolist()]).astype(int)\n",
    "x_train['suspicious_calcifications_report'] = np.array([x in susp_calc_studies for x in x_train.study_id.tolist()]).astype(int)\n",
    "\n",
    "x_val['spiculated_lesions_report'] = np.array([x in spic_lesions_studies for x in x_val.study_id.tolist()]).astype(int)\n",
    "x_val['architectural_distortion_report'] = np.array([x in arch_dist_studies for x in x_val.study_id.tolist()]).astype(int)\n",
    "x_val['suspicious_calcifications_report'] = np.array([x in susp_calc_studies for x in x_val.study_id.tolist()]).astype(int)"
   ]
  },
  {
   "cell_type": "markdown",
   "metadata": {},
   "source": [
    "### Drop features we don't want to use"
   ]
  },
  {
   "cell_type": "code",
   "execution_count": 17,
   "metadata": {
    "collapsed": true
   },
   "outputs": [],
   "source": [
    "# if large clinical only or large clinical+ small set images:\n",
    "# x_train.drop(columns=['study_id'], inplace=True) #studyid\n",
    "# x_val.drop(columns=['study_id'], inplace=True)\n",
    "\n",
    "#if images only (small set):\n",
    "\n",
    "# imaging_feats = [x for x in x_train if 'pred' in x]\n",
    "# x_train = x_train[imaging_feats]\n",
    "# x_val = x_val[imaging_feats]\n",
    "\n",
    "# shap clinical + small set images\n",
    "\n",
    "# imaging_feats = [x for x in x_train if 'pred' in x]\n",
    "# x_train = x_train [imaging_feats + shap_feats]\n",
    "# x_val = x_val [imaging_feats + shap_feats]\n",
    "\n",
    "# shap clinical + full set images\n",
    "\n",
    "image_full_set = [x for x in x_train if 'report' in x] + [x for x in x_train if 'calcification_in' in x] + \\\n",
    "[x for x in x_train if 'findings' in x] + [x for x in x_train if 'pred' in x] + \\\n",
    "['Calcification', 'Breast Assymetry', 'Tumor', 'Architectural Distortion', 'Axillary lymphadenopathy']\n",
    "x_train = x_train [image_full_set + shap_feats]\n",
    "x_val = x_val [image_full_set + shap_feats]\n",
    "\n",
    "# if images full set only\n",
    "\n",
    "# image_full_set = [x for x in x_train if 'report' in x] + [x for x in x_train if 'calcification_in' in x] + \\\n",
    "# [x for x in x_train if 'findings' in x] + [x for x in x_train if 'pred' in x] + \\\n",
    "# ['Calcification', 'Breast Assymetry', 'Tumor', 'Architectural Distortion', 'Axillary lymphadenopathy']\n",
    "# x_train = x_train [image_full_set ]\n",
    "# x_val = x_val [image_full_set ]\n"
   ]
  },
  {
   "cell_type": "markdown",
   "metadata": {},
   "source": [
    "#### Fill missing values of categorical data with most frequence value"
   ]
  },
  {
   "cell_type": "code",
   "execution_count": 18,
   "metadata": {},
   "outputs": [],
   "source": [
    "cat_feats = [x for x in x_train.columns if 'ind' in x] + [x for x in x_train.columns if 'cnt' in x] \n",
    "# +\\\n",
    "#               [ 'breast_density_past'] #we use this line if were running the complete clinical data \n",
    "\n",
    "x_train[cat_feats] = x_train[cat_feats].fillna(x_train[cat_feats].mode().iloc[0])\n",
    "x_val[cat_feats] = x_val[cat_feats].fillna(x_val[cat_feats].mode().iloc[0])"
   ]
  },
  {
   "cell_type": "markdown",
   "metadata": {},
   "source": [
    "#### Random Forest"
   ]
  },
  {
   "cell_type": "code",
   "execution_count": 19,
   "metadata": {},
   "outputs": [
    {
     "name": "stdout",
     "output_type": "stream",
     "text": [
      "**Processing class outcome_cancer_type_DCIS ...**\n",
      "AUC is 0.69 [0.60, 0.78]\n",
      "\n",
      "\n",
      "**Processing class outcome_cancer_type_Invasive ...**\n",
      "AUC is 0.83 [0.78, 0.88]\n",
      "\n",
      "\n",
      "**Processing class outcome_cancer_type_BenignHR ...**\n",
      "AUC is 0.71 [0.54, 0.87]\n",
      "\n",
      "\n",
      "**Processing class outcome_cancer_type_Papilloma ...**\n",
      "AUC is 0.63 [0.50, 0.75]\n",
      "\n",
      "\n",
      "**Processing class outcome_cancer_type_Benign ...**\n",
      "AUC is 0.74 [0.68, 0.78]\n",
      "\n",
      "\n"
     ]
    }
   ],
   "source": [
    "classes = ['outcome_cancer_type_DCIS', 'outcome_cancer_type_Invasive', 'outcome_cancer_type_BenignHR',\n",
    "           'outcome_cancer_type_Papilloma', 'outcome_cancer_type_Benign']\n",
    "\n",
    "# RanFor_pipeline = Pipeline([\n",
    "#     ('imputation', SimpleImputer(missing_values = np.nan, strategy = 'mean')), # impute continuous values with mean\n",
    "#     ('scaler', MinMaxScaler()), \n",
    "#     ('clf', OneVsRestClassifier(RandomForestClassifier(random_state=42, n_estimators = 100), n_jobs=-1)),\n",
    "# ])\n",
    "\n",
    "RanFor_pipeline = Pipeline([\n",
    "    ('imputation', SimpleImputer(missing_values = np.nan, strategy = 'mean')), # impute continuous values with mean\n",
    "    ('scaler', MinMaxScaler()), \n",
    "    ('clf', RandomForestClassifier(random_state=42, n_estimators = 100))\n",
    "])\n",
    "\n",
    "# Parameters for grid\n",
    "n_estimators = [50, 100, 200, 300]\n",
    "max_features = ['auto', 'sqrt']\n",
    "max_depth = [3, 4, 5, 6, 7, 8, 10]\n",
    "min_samples_split = [2, 5, 10]\n",
    "\n",
    "\n",
    "# grid_params_RF = {'clf__estimator__n_estimators': n_estimators,\n",
    "#                  'clf__estimator__max_features': max_features,\n",
    "#                  'clf__estimator__max_depth': max_depth,\n",
    "#                  'clf__estimator__min_samples_split': min_samples_split }\n",
    "\n",
    "\n",
    "grid_params_RF = {'clf__n_estimators': n_estimators,\n",
    "                 'clf__max_features': max_features,\n",
    "                 'clf__max_depth': max_depth,\n",
    "                 'clf__min_samples_split': min_samples_split }\n",
    "\n",
    "RF = RandomizedSearchCV(estimator = RanFor_pipeline,\n",
    "                 param_distributions = grid_params_RF,\n",
    "                 n_iter = 50, random_state=42, \n",
    "                 n_jobs = -1, scoring = 'roc_auc', cv=10)\n",
    "\n",
    "predict_probs = []\n",
    "\n",
    "for category in classes:\n",
    "    print('**Processing class {} ...**'.format(category))\n",
    "    \n",
    "    if os.path.isfile('../pkls/cancer_prediction_shared_features_pkls/RandomForest/feature_set_both_shap_and_annotation/best_model_randomized_search_' + str(category) + '.pkl'):\n",
    "        best_model = pkl.load(open('../pkls/cancer_prediction_shared_features_pkls/RandomForest/feature_set_both_shap_and_annotation/best_model_randomized_search_' + str(category) + '.pkl', 'rb'))\n",
    "    else:\n",
    "\n",
    "        RF.fit(x_train, y_train[category])\n",
    "        y_pred = RF.predict(x_val)\n",
    "\n",
    "        prob = RF.predict_proba(x_val)[:, 1]\n",
    "        \n",
    "        predict_probs.append(prob)\n",
    "\n",
    "        print('AUC is {:.2f} [{:.2f}, {:.2f}]'.format(roc_auc_score(y_val[category], \n",
    "                                        prob), *delong.get_delong_ci(prob, y_val[category])))\n",
    "\n",
    "        print('\\n')\n",
    "\n",
    "        pkl.dump(RF.best_estimator_, open('../pkls/cancer_prediction_shared_features_pkls/RandomForest/feature_set_both_shap_and_annotation/best_model_randomized_search_' + str(category) + '.pkl', 'wb')) \n",
    "    \n",
    "    \n",
    "# SHAP\n",
    "    \n",
    "#     if os.path.isfile('../pkls/cancer_prediction_shared_features_pkls/RandomForest/feature_set_clinical_only/shap_values_' + str(category) + '.pkl'):\n",
    "#         shap_values = pkl.load(open('../pkls/cancer_prediction_shared_features_pkls/RandomForest/feature_set_clinical_only/shap_values_' + str(category) + '.pkl', 'rb'))\n",
    "#     else:\n",
    "#         model = RF.best_estimator_.named_steps['clf']\n",
    "#         explainer = shap.TreeExplainer(model)\n",
    "#         shap_values = explainer.shap_values(x_val)\n",
    "#         pkl.dump(shap_values, open('../pkls/cancer_prediction_shared_features_pkls/RandomForest/feature_set_clinical_only/shap_values_' + str(category) + '.pkl', 'wb'))"
   ]
  },
  {
   "cell_type": "code",
   "execution_count": 20,
   "metadata": {
    "collapsed": true
   },
   "outputs": [],
   "source": [
    "np.savetxt('predict_probs_RF_feature_set_both_shap_feats_large_set_images.csv', predict_probs, delimiter=',')"
   ]
  },
  {
   "cell_type": "code",
   "execution_count": null,
   "metadata": {},
   "outputs": [],
   "source": [
    "dcis = pkl.load(open('../pkls/cancer_prediction_shared_features_pkls/xgboost/feature_set_clinical_only/shap_values_outcome_cancer_type_DCIS.pkl', 'rb'))\n",
    "shap.summary_plot(dcis, x_val.rename(columns = {'age':'Age'}))\n",
    "# shap.plots.beeswarm(dcis, max_display=20, order=dcis.abs.mean(0), plot_size=(8,10))"
   ]
  },
  {
   "cell_type": "code",
   "execution_count": null,
   "metadata": {},
   "outputs": [],
   "source": [
    "invasive = pkl.load(open('../pkls/cancer_prediction_shared_features_pkls/xgboost/feature_set_clinical_only/shap_values_outcome_cancer_type_Invasive.pkl', 'rb'))\n",
    "shap.summary_plot(invasive, x_val.rename(columns = {'age':'Age'}))\n"
   ]
  },
  {
   "cell_type": "code",
   "execution_count": null,
   "metadata": {
    "collapsed": true
   },
   "outputs": [],
   "source": [
    "benignhr = pkl.load(open('../pkls/cancer_prediction_shared_features_pkls/xgboost/feature_set_clinical_only/shap_values_outcome_cancer_type_BenignHR.pkl', 'rb'))\n",
    "papilloma = pkl.load(open('../pkls/cancer_prediction_shared_features_pkls/xgboost/feature_set_clinical_only/shap_values_outcome_cancer_type_Papilloma.pkl', 'rb'))\n",
    "benign = pkl.load(open('../pkls/cancer_prediction_shared_features_pkls/xgboost/feature_set_clinical_only/shap_values_outcome_cancer_type_Papilloma.pkl', 'rb'))"
   ]
  },
  {
   "cell_type": "code",
   "execution_count": null,
   "metadata": {},
   "outputs": [],
   "source": [
    "# union_shap = x_val.columns[np.argsort(np.abs(benign).mean(0))].tolist()[::-1][:20] +\\\n",
    "#         x_val.columns[np.argsort(np.abs(dcis).mean(0))].tolist()[::-1][:20] +\\\n",
    "#         x_val.columns[np.argsort(np.abs(benignhr).mean(0))].tolist()[::-1][:20] +\\\n",
    "#         x_val.columns[np.argsort(np.abs(papilloma).mean(0))].tolist()[::-1][:20] +\\\n",
    "#         x_val.columns[np.argsort(np.abs(invasive).mean(0))].tolist()[::-1][:20]\n",
    "        \n",
    "# print(len(list(set(union_shap))))\n",
    "\n",
    "# with open('../pkls/sentara_union_shap_RF.pkl', 'wb') as handle:\n",
    "#     pkl.dump(union_shap, handle, protocol=pkl.HIGHEST_PROTOCOL)"
   ]
  },
  {
   "cell_type": "code",
   "execution_count": null,
   "metadata": {
    "collapsed": true
   },
   "outputs": [],
   "source": []
  }
 ],
 "metadata": {
  "kernelspec": {
   "display_name": "risk",
   "language": "python",
   "name": "risk"
  },
  "language_info": {
   "codemirror_mode": {
    "name": "ipython",
    "version": 3
   },
   "file_extension": ".py",
   "mimetype": "text/x-python",
   "name": "python",
   "nbconvert_exporter": "python",
   "pygments_lexer": "ipython3",
   "version": "3.6.10"
  }
 },
 "nbformat": 4,
 "nbformat_minor": 4
}
