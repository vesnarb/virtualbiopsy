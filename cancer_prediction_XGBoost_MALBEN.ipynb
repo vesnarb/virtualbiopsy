{
 "cells": [
  {
   "cell_type": "code",
   "execution_count": 1,
   "metadata": {
    "collapsed": true
   },
   "outputs": [],
   "source": [
    "import pandas as pd\n",
    "import numpy as np\n",
    "import pickle as pkl\n",
    "import os\n",
    "import virtual_biopsy_utils as vbu\n",
    "import integration_images_features_utils as image_utils\n",
    "import ast\n",
    "import delong\n",
    "import shap\n",
    "\n",
    "from sklearn.impute import SimpleImputer\n",
    "from sklearn.preprocessing import MinMaxScaler\n",
    "import matplotlib.pyplot as plt\n",
    "from sklearn.linear_model import LogisticRegression\n",
    "from sklearn.pipeline import Pipeline\n",
    "from sklearn.metrics import accuracy_score\n",
    "from sklearn.multiclass import OneVsRestClassifier\n",
    "from sklearn.metrics import roc_curve, auc, roc_auc_score\n",
    "from sklearn.ensemble import RandomForestClassifier\n",
    "from sklearn.model_selection import RandomizedSearchCV\n",
    "from xgboost import XGBClassifier"
   ]
  },
  {
   "cell_type": "code",
   "execution_count": 30,
   "metadata": {
    "collapsed": true
   },
   "outputs": [],
   "source": [
    "def get_pretty_names_dict():\n",
    "    return pd.read_csv('../assisting_docs/features_dictionary_.csv', index_col = 0, squeeze=True).to_dict()"
   ]
  },
  {
   "cell_type": "code",
   "execution_count": 29,
   "metadata": {},
   "outputs": [],
   "source": [
    "# a = pd.read_csv('../assisting_docs/features_dictionary.csv', index_col = 0)\n",
    "# a.loc['dx_V16.3_ind'] = ['Family history of BC']\n",
    "# a.to_csv('../assisting_docs/features_dictionary_.csv')"
   ]
  },
  {
   "cell_type": "markdown",
   "metadata": {},
   "source": [
    "### Load files ready to be trained"
   ]
  },
  {
   "cell_type": "code",
   "execution_count": 3,
   "metadata": {
    "collapsed": true
   },
   "outputs": [],
   "source": [
    "x_train = pkl.load(open('../pkls/x_train_ready_for_training_MALBEN.pkl', 'rb'))\n",
    "y_train = pkl.load(open('../pkls/y_train_ready_for_training_MALBEN.pkl', 'rb'))\n",
    "\n",
    "x_val = pkl.load(open('../pkls/x_val_ready_for_training_MALBEN.pkl', 'rb'))\n",
    "y_val = pkl.load(open('../pkls/y_val_ready_for_training_MALBEN.pkl', 'rb'))\n"
   ]
  },
  {
   "cell_type": "markdown",
   "metadata": {},
   "source": [
    "### Load shap features from cancer types"
   ]
  },
  {
   "cell_type": "code",
   "execution_count": null,
   "metadata": {
    "collapsed": true
   },
   "outputs": [],
   "source": [
    "shap_feats = pkl.load(open('../pkls/.pkl', 'rb'))\n",
    "\n",
    "shap_feats = list(set(shap_feats))"
   ]
  },
  {
   "cell_type": "code",
   "execution_count": null,
   "metadata": {
    "collapsed": true
   },
   "outputs": [],
   "source": [
    "len(shap_feats)"
   ]
  },
  {
   "cell_type": "markdown",
   "metadata": {},
   "source": [
    "### Drop features we dont use"
   ]
  },
  {
   "cell_type": "code",
   "execution_count": 4,
   "metadata": {
    "collapsed": true
   },
   "outputs": [],
   "source": [
    "imaging_feats = [x for x in x_train if 'pred' in x]"
   ]
  },
  {
   "cell_type": "code",
   "execution_count": 6,
   "metadata": {},
   "outputs": [],
   "source": [
    "#if clinical only\n",
    "feature_set = 'clinical'\n",
    "x_train.drop(columns=  ['study_id']  + imaging_feats, inplace=True) \n",
    "x_val.drop(columns= ['study_id']  + imaging_feats, inplace=True)\n",
    "\n",
    "# if shap only\n",
    "# feature_set = 'shap'\n",
    "# x_train = x_train [shap_feats]\n",
    "# x_val = x_val [shap_feats]\n",
    "\n",
    "\n",
    "# if shap + images\n",
    "# feature_set = 'shap_and_predictions'\n",
    "# imaging_feats = [x for x in x_train if 'pred' in x]\n",
    "# x_train = x_train [imaging_feats + shap_feats]\n",
    "# x_val = x_val [imaging_feats + shap_feats]\n",
    "\n",
    "\n",
    "# if images only:\n",
    "# feature_set = 'predictions'\n",
    "# imaging_feats = [x for x in x_train if 'pred' in x]\n",
    "# x_train = x_train[imaging_feats]\n",
    "# x_val = x_val[imaging_feats]"
   ]
  },
  {
   "cell_type": "code",
   "execution_count": 7,
   "metadata": {},
   "outputs": [
    {
     "name": "stdout",
     "output_type": "stream",
     "text": [
      "(1685, 1829) (357, 1829) (1685, 7) (357, 7)\n"
     ]
    }
   ],
   "source": [
    "print(x_train.shape, x_val.shape, y_train.shape, y_val.shape)"
   ]
  },
  {
   "cell_type": "markdown",
   "metadata": {},
   "source": [
    "### XGBoost"
   ]
  },
  {
   "cell_type": "code",
   "execution_count": 8,
   "metadata": {
    "collapsed": true
   },
   "outputs": [],
   "source": [
    "NUM_ITER = 10"
   ]
  },
  {
   "cell_type": "code",
   "execution_count": 9,
   "metadata": {
    "collapsed": true
   },
   "outputs": [],
   "source": [
    "# Make sure columns have the same order\n",
    "x_val = x_val[x_train.columns]"
   ]
  },
  {
   "cell_type": "code",
   "execution_count": 10,
   "metadata": {},
   "outputs": [
    {
     "name": "stdout",
     "output_type": "stream",
     "text": [
      "**Processing class outcome_cancer_type_Malignant ...**\n",
      "**Processing class outcome_cancer_type_Malignant ...**\n",
      "**Processing class outcome_cancer_type_Malignant ...**\n",
      "**Processing class outcome_cancer_type_Malignant ...**\n",
      "**Processing class outcome_cancer_type_Malignant ...**\n",
      "**Processing class outcome_cancer_type_Malignant ...**\n",
      "**Processing class outcome_cancer_type_Malignant ...**\n",
      "**Processing class outcome_cancer_type_Malignant ...**\n",
      "**Processing class outcome_cancer_type_Malignant ...**\n",
      "**Processing class outcome_cancer_type_Malignant ...**\n"
     ]
    }
   ],
   "source": [
    "classes = ['outcome_cancer_type_Malignant']\n",
    "\n",
    "XGB = XGBClassifier( eval_metric = 'auc'\n",
    "                   )\n",
    "\n",
    "min_child_weight = [1, 2, 3, 5, 7]  \n",
    "gamma= [0, 0.1, 0.2, 0.3, 0.4]\n",
    "colsample_bytree= [0.3, 0.4, 0.5, 0.7, 1.0]\n",
    "learning_rate= [0.05, 0.10, 0.15, 0.20, 0.25, 0.30, 0.35, 0.40, 0.50]  \n",
    "max_depth= [3, 4, 5, 6, 7, 8, 10] \n",
    "\n",
    "     \n",
    "\n",
    "grid_params_xgb = {'min_child_weight': min_child_weight,\n",
    "                 'gamma': gamma,\n",
    "                 'colsample_bytree': colsample_bytree,\n",
    "                 'learning_rate': learning_rate,\n",
    "                 'max_depth': max_depth}\n",
    "\n",
    "\n",
    "XGB_CV= RandomizedSearchCV(estimator = XGB,\n",
    "                 param_distributions = grid_params_xgb,\n",
    "                 scoring = 'roc_auc', n_iter = 30,\n",
    "                 cv=5 ) \n",
    "\n",
    "\n",
    "stats_runs = {}\n",
    "stats_runs['AUC_mean'] = []\n",
    "stats_runs['AUC_CI1'] = []\n",
    "stats_runs['AUC_CI2'] = []\n",
    "stats_runs['probabilities'] = []\n",
    "\n",
    "\n",
    "for i in range(NUM_ITER):\n",
    "    \n",
    "    print ('{}/{}\\r'.format(i+1, NUM_ITER), end = '', flush=True)\n",
    "\n",
    "    for category in classes:\n",
    "\n",
    "        print('**Processing class {} ...**'.format(category))\n",
    "    \n",
    "        XGB_CV.fit(x_train, y_train[category])\n",
    "        y_pred = XGB_CV.predict(x_val)\n",
    "\n",
    "        prob = XGB_CV.predict_proba(x_val)[:,1]\n",
    "        stats_runs['AUC_mean'].append(roc_auc_score(y_val[category], \n",
    "                                        prob))\n",
    "        stats_runs['AUC_CI1'].append(delong.get_delong_ci(prob, y_val[category])[0])\n",
    "        stats_runs['AUC_CI2'].append(delong.get_delong_ci(prob, y_val[category])[1])                        \n",
    "        stats_runs['probabilities'].append(prob)\n",
    "        \n",
    "        pkl.dump(XGB_CV.best_estimator_, \n",
    "open('../pkls/cancer_prediction_pkls/xgboost/' + str(feature_set) + '/model_' + str(category) + '_run_' + str(i) + '.pkl', 'wb')) \n",
    "        \n",
    "        # SHAP\n",
    "\n",
    "        best_params_grid_search = XGB_CV.best_params_\n",
    "\n",
    "        model  = XGBClassifier(**best_params_grid_search)\n",
    "        model.fit(x_train, y_train[category])\n",
    "        \n",
    "        explainer = shap.TreeExplainer(model)\n",
    "        shap_values = explainer.shap_values(x_val)\n",
    "        pkl.dump(shap_values, open('../pkls/cancer_prediction_pkls/xgboost/'+ str(feature_set) + '/shap_values_' + str(category) + '_run_' + str(i) + '.pkl', 'wb'))\n",
    " \n",
    "    # Save probabilities\n",
    "np.savetxt('significance_tests/MALBEN_predict_probs_XGBoost_' + str(feature_set) + '.csv', stats_runs['probabilities'], delimiter=',')"
   ]
  },
  {
   "cell_type": "code",
   "execution_count": 12,
   "metadata": {},
   "outputs": [
    {
     "data": {
      "text/html": [
       "<div>\n",
       "<style scoped>\n",
       "    .dataframe tbody tr th:only-of-type {\n",
       "        vertical-align: middle;\n",
       "    }\n",
       "\n",
       "    .dataframe tbody tr th {\n",
       "        vertical-align: top;\n",
       "    }\n",
       "\n",
       "    .dataframe thead th {\n",
       "        text-align: right;\n",
       "    }\n",
       "</style>\n",
       "<table border=\"1\" class=\"dataframe\">\n",
       "  <thead>\n",
       "    <tr style=\"text-align: right;\">\n",
       "      <th></th>\n",
       "      <th>AUC_mean</th>\n",
       "      <th>AUC_lowCI</th>\n",
       "      <th>AUC_highCI</th>\n",
       "    </tr>\n",
       "  </thead>\n",
       "  <tbody>\n",
       "    <tr>\n",
       "      <th>0</th>\n",
       "      <td>62.558923</td>\n",
       "      <td>56.151052</td>\n",
       "      <td>68.077904</td>\n",
       "    </tr>\n",
       "    <tr>\n",
       "      <th>1</th>\n",
       "      <td>65.156566</td>\n",
       "      <td>58.805719</td>\n",
       "      <td>70.618523</td>\n",
       "    </tr>\n",
       "    <tr>\n",
       "      <th>2</th>\n",
       "      <td>65.528620</td>\n",
       "      <td>59.226163</td>\n",
       "      <td>70.942187</td>\n",
       "    </tr>\n",
       "    <tr>\n",
       "      <th>3</th>\n",
       "      <td>65.811448</td>\n",
       "      <td>59.521473</td>\n",
       "      <td>71.212534</td>\n",
       "    </tr>\n",
       "    <tr>\n",
       "      <th>4</th>\n",
       "      <td>65.462963</td>\n",
       "      <td>59.090855</td>\n",
       "      <td>70.946182</td>\n",
       "    </tr>\n",
       "    <tr>\n",
       "      <th>5</th>\n",
       "      <td>64.436027</td>\n",
       "      <td>58.015208</td>\n",
       "      <td>69.967957</td>\n",
       "    </tr>\n",
       "    <tr>\n",
       "      <th>6</th>\n",
       "      <td>65.656566</td>\n",
       "      <td>59.320182</td>\n",
       "      <td>71.104061</td>\n",
       "    </tr>\n",
       "    <tr>\n",
       "      <th>7</th>\n",
       "      <td>65.175084</td>\n",
       "      <td>58.850094</td>\n",
       "      <td>70.611186</td>\n",
       "    </tr>\n",
       "    <tr>\n",
       "      <th>8</th>\n",
       "      <td>65.308081</td>\n",
       "      <td>58.955839</td>\n",
       "      <td>70.771434</td>\n",
       "    </tr>\n",
       "    <tr>\n",
       "      <th>9</th>\n",
       "      <td>65.811448</td>\n",
       "      <td>59.521473</td>\n",
       "      <td>71.212534</td>\n",
       "    </tr>\n",
       "  </tbody>\n",
       "</table>\n",
       "</div>"
      ],
      "text/plain": [
       "    AUC_mean  AUC_lowCI  AUC_highCI\n",
       "0  62.558923  56.151052   68.077904\n",
       "1  65.156566  58.805719   70.618523\n",
       "2  65.528620  59.226163   70.942187\n",
       "3  65.811448  59.521473   71.212534\n",
       "4  65.462963  59.090855   70.946182\n",
       "5  64.436027  58.015208   69.967957\n",
       "6  65.656566  59.320182   71.104061\n",
       "7  65.175084  58.850094   70.611186\n",
       "8  65.308081  58.955839   70.771434\n",
       "9  65.811448  59.521473   71.212534"
      ]
     },
     "execution_count": 12,
     "metadata": {},
     "output_type": "execute_result"
    }
   ],
   "source": [
    "outputs = {'AUC_mean': stats_runs['AUC_mean'],\n",
    "          'AUC_lowCI': stats_runs['AUC_CI1'],\n",
    "          'AUC_highCI': stats_runs['AUC_CI2']}\n",
    "df = pd.DataFrame(data=outputs)\n",
    "df.to_csv('output_AUCs_all_models/MALBEN_' + str(feature_set) + '.csv')\n",
    "df*100"
   ]
  },
  {
   "cell_type": "markdown",
   "metadata": {},
   "source": [
    "### SHAP"
   ]
  },
  {
   "cell_type": "code",
   "execution_count": 15,
   "metadata": {
    "collapsed": true
   },
   "outputs": [],
   "source": [
    "final_features_per_class = []\n",
    "\n",
    "for category in classes:\n",
    "\n",
    "    shap_values = []\n",
    "    top_20_all_shap = []\n",
    "\n",
    "    for i in range(10):\n",
    "        shap_values.append(pkl.load(open('../pkls/cancer_prediction_pkls/xgboost/clinical/shap_values_' + str(category) + '_run_' + str(i) + '.pkl', 'rb')))\n",
    "        top_20_all_shap.append(x_val.columns[np.argsort(np.abs(shap_values[i]).mean(0))].tolist()[::-1][:20])\n",
    "\n",
    "    top_20_all_shap_flat = [item for sublist in top_20_all_shap for item in sublist]\n",
    "\n",
    "    final_features_per_class.append(list(set([x for x in top_20_all_shap_flat if top_20_all_shap_flat.count(x) >=5 ])))\n",
    "\n",
    "union_shap = list(set([item for sublist in final_features_per_class for item in sublist]))\n",
    "\n",
    "with open('../pkls/sentara_union_shap_MALBEN.pkl', 'wb') as handle:\n",
    "    pkl.dump(union_shap, handle, protocol=pkl.HIGHEST_PROTOCOL)\n"
   ]
  },
  {
   "cell_type": "code",
   "execution_count": 16,
   "metadata": {},
   "outputs": [
    {
     "data": {
      "text/plain": [
       "['past_biopsy_proc_cnt',\n",
       " 'labs_kidneys_levels_K+ Potassium (B)',\n",
       " 'prev_benign_ind',\n",
       " 'prev_benign_cnt',\n",
       " 'age',\n",
       " 'lump_by_dr_ind_current',\n",
       " 'labs_blood_chem_levels_Ca-Calcium (B)_min',\n",
       " 'complaint_ind_current',\n",
       " 'months_since_first_MG',\n",
       " 'menstruation_years',\n",
       " 'children_cnt',\n",
       " 'calc_breast_density_current',\n",
       " 'pregnancies_cnt',\n",
       " 'dx_V16.3_cnt',\n",
       " 'calc_likelihood_obesity',\n",
       " 'labs_cbc_levels_Hematocrit_min',\n",
       " 'labs_cbc_levels_Platelets_min',\n",
       " 'labs_blood_chem_levels_Ca-Calcium (B)_last',\n",
       " 'past_biopsy_proc_ind',\n",
       " 'labs_cbc_levels_Platelets']"
      ]
     },
     "execution_count": 16,
     "metadata": {},
     "output_type": "execute_result"
    }
   ],
   "source": [
    "union_shap"
   ]
  },
  {
   "cell_type": "markdown",
   "metadata": {},
   "source": [
    "### SHAP"
   ]
  },
  {
   "cell_type": "code",
   "execution_count": 33,
   "metadata": {},
   "outputs": [
    {
     "data": {
      "image/png": "[encoded data removed]",
      "text/plain": [
       "<Figure size 576x684 with 2 Axes>"
      ]
     },
     "metadata": {
      "needs_background": "light"
     },
     "output_type": "display_data"
    }
   ],
   "source": [
    "aucs = pd.read_csv('output_AUCs_all_models/MALBEN_clinical.csv', index_col =0) \n",
    "idx = aucs['AUC_mean'].argmax()\n",
    "dcisshap = pkl.load(open('../pkls/cancer_prediction_pkls/xgboost/clinical/shap_values_outcome_cancer_type_Malignant_run_'+ str(idx)+'.pkl', 'rb'))\n",
    "val_disp = x_val.rename(columns=get_pretty_names_dict())\n",
    "shap.summary_plot(dcisshap, val_disp, max_display = 20, plot_type='dot', show = False)\n",
    "\n",
    "plt.savefig(\"../RESULTS/Figures/shap_MALBEN_Maccabi_summary.eps\", format=\"eps\", dpi=600, bbox_inches=\"tight\")\n",
    "plt.savefig(\"../RESULTS/Figures/shap_MALBEN_Maccabi_summary.png\", format=\"png\", dpi=600, bbox_inches=\"tight\")\n",
    "plt.savefig(\"../RESULTS/Figures/shap_MALBEN_Maccabi_summary.pdf\", format=\"pdf\", dpi=600, bbox_inches=\"tight\")"
   ]
  },
  {
   "cell_type": "code",
   "execution_count": null,
   "metadata": {
    "collapsed": true
   },
   "outputs": [],
   "source": []
  }
 ],
 "metadata": {
  "kernelspec": {
   "display_name": "Python 3 (ipykernel)",
   "language": "python",
   "name": "python3"
  },
  "language_info": {
   "codemirror_mode": {
    "name": "ipython",
    "version": 3
   },
   "file_extension": ".py",
   "mimetype": "text/x-python",
   "name": "python",
   "nbconvert_exporter": "python",
   "pygments_lexer": "ipython3",
   "version": "3.9.7"
  }
 },
 "nbformat": 4,
 "nbformat_minor": 4
}
