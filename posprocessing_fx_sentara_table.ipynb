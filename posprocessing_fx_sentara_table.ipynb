{
 "cells": [
  {
   "cell_type": "markdown",
   "metadata": {},
   "source": [
    "In this notebook we posprocess the data and add the cancer subtypes as the outcome. We also add BMI values and DICOM tags to each study and create new features."
   ]
  },
  {
   "cell_type": "markdown",
   "metadata": {},
   "source": [
    "#### Import libraries, load original sentara data, BMIs and DICOM tags"
   ]
  },
  {
   "cell_type": "code",
   "execution_count": 1,
   "metadata": {},
   "outputs": [
    {
     "ename": "FileNotFoundError",
     "evalue": "[Errno 2] File ../input_files/sentara_train_pathologies.csv does not exist: '../input_files/sentara_train_pathologies.csv'",
     "output_type": "error",
     "traceback": [
      "\u001b[0;31m---------------------------------------------------------------------------\u001b[0m",
      "\u001b[0;31mFileNotFoundError\u001b[0m                         Traceback (most recent call last)",
      "\u001b[0;32m<ipython-input-1-8b1d94e3e409>\u001b[0m in \u001b[0;36m<module>\u001b[0;34m\u001b[0m\n\u001b[1;32m      6\u001b[0m \u001b[0;32mimport\u001b[0m \u001b[0mre\u001b[0m\u001b[0;34m\u001b[0m\u001b[0;34m\u001b[0m\u001b[0m\n\u001b[1;32m      7\u001b[0m \u001b[0;34m\u001b[0m\u001b[0m\n\u001b[0;32m----> 8\u001b[0;31m \u001b[0mtrain\u001b[0m \u001b[0;34m=\u001b[0m \u001b[0mpd\u001b[0m\u001b[0;34m.\u001b[0m\u001b[0mread_csv\u001b[0m\u001b[0;34m(\u001b[0m\u001b[0;34m'../input_files/sentara_train_pathologies.csv'\u001b[0m\u001b[0;34m,\u001b[0m \u001b[0mindex_col\u001b[0m \u001b[0;34m=\u001b[0m \u001b[0;36m0\u001b[0m\u001b[0;34m)\u001b[0m\u001b[0;34m\u001b[0m\u001b[0;34m\u001b[0m\u001b[0m\n\u001b[0m\u001b[1;32m      9\u001b[0m \u001b[0mtest\u001b[0m \u001b[0;34m=\u001b[0m \u001b[0mpd\u001b[0m\u001b[0;34m.\u001b[0m\u001b[0mread_csv\u001b[0m\u001b[0;34m(\u001b[0m\u001b[0;34m'../input_files/sentara_test_pathologies.csv'\u001b[0m\u001b[0;34m,\u001b[0m  \u001b[0mindex_col\u001b[0m \u001b[0;34m=\u001b[0m \u001b[0;36m0\u001b[0m\u001b[0;34m)\u001b[0m\u001b[0;34m\u001b[0m\u001b[0;34m\u001b[0m\u001b[0m\n\u001b[1;32m     10\u001b[0m \u001b[0mval\u001b[0m \u001b[0;34m=\u001b[0m \u001b[0mpd\u001b[0m\u001b[0;34m.\u001b[0m\u001b[0mread_csv\u001b[0m\u001b[0;34m(\u001b[0m\u001b[0;34m'../input_files/sentara_val_pathologies.csv'\u001b[0m\u001b[0;34m,\u001b[0m  \u001b[0mindex_col\u001b[0m \u001b[0;34m=\u001b[0m \u001b[0;36m0\u001b[0m\u001b[0;34m)\u001b[0m\u001b[0;34m\u001b[0m\u001b[0;34m\u001b[0m\u001b[0m\n",
      "\u001b[0;32m~/opt/anaconda3/envs/tumor_profiling/lib/python3.8/site-packages/pandas/io/parsers.py\u001b[0m in \u001b[0;36mparser_f\u001b[0;34m(filepath_or_buffer, sep, delimiter, header, names, index_col, usecols, squeeze, prefix, mangle_dupe_cols, dtype, engine, converters, true_values, false_values, skipinitialspace, skiprows, skipfooter, nrows, na_values, keep_default_na, na_filter, verbose, skip_blank_lines, parse_dates, infer_datetime_format, keep_date_col, date_parser, dayfirst, cache_dates, iterator, chunksize, compression, thousands, decimal, lineterminator, quotechar, quoting, doublequote, escapechar, comment, encoding, dialect, error_bad_lines, warn_bad_lines, delim_whitespace, low_memory, memory_map, float_precision)\u001b[0m\n\u001b[1;32m    674\u001b[0m         )\n\u001b[1;32m    675\u001b[0m \u001b[0;34m\u001b[0m\u001b[0m\n\u001b[0;32m--> 676\u001b[0;31m         \u001b[0;32mreturn\u001b[0m \u001b[0m_read\u001b[0m\u001b[0;34m(\u001b[0m\u001b[0mfilepath_or_buffer\u001b[0m\u001b[0;34m,\u001b[0m \u001b[0mkwds\u001b[0m\u001b[0;34m)\u001b[0m\u001b[0;34m\u001b[0m\u001b[0;34m\u001b[0m\u001b[0m\n\u001b[0m\u001b[1;32m    677\u001b[0m \u001b[0;34m\u001b[0m\u001b[0m\n\u001b[1;32m    678\u001b[0m     \u001b[0mparser_f\u001b[0m\u001b[0;34m.\u001b[0m\u001b[0m__name__\u001b[0m \u001b[0;34m=\u001b[0m \u001b[0mname\u001b[0m\u001b[0;34m\u001b[0m\u001b[0;34m\u001b[0m\u001b[0m\n",
      "\u001b[0;32m~/opt/anaconda3/envs/tumor_profiling/lib/python3.8/site-packages/pandas/io/parsers.py\u001b[0m in \u001b[0;36m_read\u001b[0;34m(filepath_or_buffer, kwds)\u001b[0m\n\u001b[1;32m    446\u001b[0m \u001b[0;34m\u001b[0m\u001b[0m\n\u001b[1;32m    447\u001b[0m     \u001b[0;31m# Create the parser.\u001b[0m\u001b[0;34m\u001b[0m\u001b[0;34m\u001b[0m\u001b[0;34m\u001b[0m\u001b[0m\n\u001b[0;32m--> 448\u001b[0;31m     \u001b[0mparser\u001b[0m \u001b[0;34m=\u001b[0m \u001b[0mTextFileReader\u001b[0m\u001b[0;34m(\u001b[0m\u001b[0mfp_or_buf\u001b[0m\u001b[0;34m,\u001b[0m \u001b[0;34m**\u001b[0m\u001b[0mkwds\u001b[0m\u001b[0;34m)\u001b[0m\u001b[0;34m\u001b[0m\u001b[0;34m\u001b[0m\u001b[0m\n\u001b[0m\u001b[1;32m    449\u001b[0m \u001b[0;34m\u001b[0m\u001b[0m\n\u001b[1;32m    450\u001b[0m     \u001b[0;32mif\u001b[0m \u001b[0mchunksize\u001b[0m \u001b[0;32mor\u001b[0m \u001b[0miterator\u001b[0m\u001b[0;34m:\u001b[0m\u001b[0;34m\u001b[0m\u001b[0;34m\u001b[0m\u001b[0m\n",
      "\u001b[0;32m~/opt/anaconda3/envs/tumor_profiling/lib/python3.8/site-packages/pandas/io/parsers.py\u001b[0m in \u001b[0;36m__init__\u001b[0;34m(self, f, engine, **kwds)\u001b[0m\n\u001b[1;32m    878\u001b[0m             \u001b[0mself\u001b[0m\u001b[0;34m.\u001b[0m\u001b[0moptions\u001b[0m\u001b[0;34m[\u001b[0m\u001b[0;34m\"has_index_names\"\u001b[0m\u001b[0;34m]\u001b[0m \u001b[0;34m=\u001b[0m \u001b[0mkwds\u001b[0m\u001b[0;34m[\u001b[0m\u001b[0;34m\"has_index_names\"\u001b[0m\u001b[0;34m]\u001b[0m\u001b[0;34m\u001b[0m\u001b[0;34m\u001b[0m\u001b[0m\n\u001b[1;32m    879\u001b[0m \u001b[0;34m\u001b[0m\u001b[0m\n\u001b[0;32m--> 880\u001b[0;31m         \u001b[0mself\u001b[0m\u001b[0;34m.\u001b[0m\u001b[0m_make_engine\u001b[0m\u001b[0;34m(\u001b[0m\u001b[0mself\u001b[0m\u001b[0;34m.\u001b[0m\u001b[0mengine\u001b[0m\u001b[0;34m)\u001b[0m\u001b[0;34m\u001b[0m\u001b[0;34m\u001b[0m\u001b[0m\n\u001b[0m\u001b[1;32m    881\u001b[0m \u001b[0;34m\u001b[0m\u001b[0m\n\u001b[1;32m    882\u001b[0m     \u001b[0;32mdef\u001b[0m \u001b[0mclose\u001b[0m\u001b[0;34m(\u001b[0m\u001b[0mself\u001b[0m\u001b[0;34m)\u001b[0m\u001b[0;34m:\u001b[0m\u001b[0;34m\u001b[0m\u001b[0;34m\u001b[0m\u001b[0m\n",
      "\u001b[0;32m~/opt/anaconda3/envs/tumor_profiling/lib/python3.8/site-packages/pandas/io/parsers.py\u001b[0m in \u001b[0;36m_make_engine\u001b[0;34m(self, engine)\u001b[0m\n\u001b[1;32m   1112\u001b[0m     \u001b[0;32mdef\u001b[0m \u001b[0m_make_engine\u001b[0m\u001b[0;34m(\u001b[0m\u001b[0mself\u001b[0m\u001b[0;34m,\u001b[0m \u001b[0mengine\u001b[0m\u001b[0;34m=\u001b[0m\u001b[0;34m\"c\"\u001b[0m\u001b[0;34m)\u001b[0m\u001b[0;34m:\u001b[0m\u001b[0;34m\u001b[0m\u001b[0;34m\u001b[0m\u001b[0m\n\u001b[1;32m   1113\u001b[0m         \u001b[0;32mif\u001b[0m \u001b[0mengine\u001b[0m \u001b[0;34m==\u001b[0m \u001b[0;34m\"c\"\u001b[0m\u001b[0;34m:\u001b[0m\u001b[0;34m\u001b[0m\u001b[0;34m\u001b[0m\u001b[0m\n\u001b[0;32m-> 1114\u001b[0;31m             \u001b[0mself\u001b[0m\u001b[0;34m.\u001b[0m\u001b[0m_engine\u001b[0m \u001b[0;34m=\u001b[0m \u001b[0mCParserWrapper\u001b[0m\u001b[0;34m(\u001b[0m\u001b[0mself\u001b[0m\u001b[0;34m.\u001b[0m\u001b[0mf\u001b[0m\u001b[0;34m,\u001b[0m \u001b[0;34m**\u001b[0m\u001b[0mself\u001b[0m\u001b[0;34m.\u001b[0m\u001b[0moptions\u001b[0m\u001b[0;34m)\u001b[0m\u001b[0;34m\u001b[0m\u001b[0;34m\u001b[0m\u001b[0m\n\u001b[0m\u001b[1;32m   1115\u001b[0m         \u001b[0;32melse\u001b[0m\u001b[0;34m:\u001b[0m\u001b[0;34m\u001b[0m\u001b[0;34m\u001b[0m\u001b[0m\n\u001b[1;32m   1116\u001b[0m             \u001b[0;32mif\u001b[0m \u001b[0mengine\u001b[0m \u001b[0;34m==\u001b[0m \u001b[0;34m\"python\"\u001b[0m\u001b[0;34m:\u001b[0m\u001b[0;34m\u001b[0m\u001b[0;34m\u001b[0m\u001b[0m\n",
      "\u001b[0;32m~/opt/anaconda3/envs/tumor_profiling/lib/python3.8/site-packages/pandas/io/parsers.py\u001b[0m in \u001b[0;36m__init__\u001b[0;34m(self, src, **kwds)\u001b[0m\n\u001b[1;32m   1889\u001b[0m         \u001b[0mkwds\u001b[0m\u001b[0;34m[\u001b[0m\u001b[0;34m\"usecols\"\u001b[0m\u001b[0;34m]\u001b[0m \u001b[0;34m=\u001b[0m \u001b[0mself\u001b[0m\u001b[0;34m.\u001b[0m\u001b[0musecols\u001b[0m\u001b[0;34m\u001b[0m\u001b[0;34m\u001b[0m\u001b[0m\n\u001b[1;32m   1890\u001b[0m \u001b[0;34m\u001b[0m\u001b[0m\n\u001b[0;32m-> 1891\u001b[0;31m         \u001b[0mself\u001b[0m\u001b[0;34m.\u001b[0m\u001b[0m_reader\u001b[0m \u001b[0;34m=\u001b[0m \u001b[0mparsers\u001b[0m\u001b[0;34m.\u001b[0m\u001b[0mTextReader\u001b[0m\u001b[0;34m(\u001b[0m\u001b[0msrc\u001b[0m\u001b[0;34m,\u001b[0m \u001b[0;34m**\u001b[0m\u001b[0mkwds\u001b[0m\u001b[0;34m)\u001b[0m\u001b[0;34m\u001b[0m\u001b[0;34m\u001b[0m\u001b[0m\n\u001b[0m\u001b[1;32m   1892\u001b[0m         \u001b[0mself\u001b[0m\u001b[0;34m.\u001b[0m\u001b[0munnamed_cols\u001b[0m \u001b[0;34m=\u001b[0m \u001b[0mself\u001b[0m\u001b[0;34m.\u001b[0m\u001b[0m_reader\u001b[0m\u001b[0;34m.\u001b[0m\u001b[0munnamed_cols\u001b[0m\u001b[0;34m\u001b[0m\u001b[0;34m\u001b[0m\u001b[0m\n\u001b[1;32m   1893\u001b[0m \u001b[0;34m\u001b[0m\u001b[0m\n",
      "\u001b[0;32mpandas/_libs/parsers.pyx\u001b[0m in \u001b[0;36mpandas._libs.parsers.TextReader.__cinit__\u001b[0;34m()\u001b[0m\n",
      "\u001b[0;32mpandas/_libs/parsers.pyx\u001b[0m in \u001b[0;36mpandas._libs.parsers.TextReader._setup_parser_source\u001b[0;34m()\u001b[0m\n",
      "\u001b[0;31mFileNotFoundError\u001b[0m: [Errno 2] File ../input_files/sentara_train_pathologies.csv does not exist: '../input_files/sentara_train_pathologies.csv'"
     ]
    }
   ],
   "source": [
    "import virtual_biopsy_utils as vbu\n",
    "import pandas as pd\n",
    "import numpy as np\n",
    "import pickle as pkl\n",
    "import os\n",
    "import re\n",
    "\n",
    "train = pd.read_csv('../input_files/sentara_train_pathologies.csv', index_col = 0)\n",
    "test = pd.read_csv('../input_files/sentara_test_pathologies.csv',  index_col = 0)\n",
    "val = pd.read_csv('../input_files/sentara_val_pathologies.csv',  index_col = 0)\n",
    "\n",
    "# sen_data = pd.read_csv('../input_files/fx_sentara_chorev_extra_data_for_bmi_prediction.csv', index_col=0)\n",
    "sen_data = pd.read_csv('../input_files/fx_sentara_cohort.csv')\n",
    "dicom_tags = pd.read_csv('../input_files/sentara_avg_dicom_tags.csv', index_col = 0)\n",
    "bmis = pd.read_csv('../input_files/sentara_annotated_bmis_processed.csv', index_col = 0)"
   ]
  },
  {
   "cell_type": "code",
   "execution_count": 2,
   "metadata": {},
   "outputs": [
    {
     "data": {
      "text/html": [
       "<div>\n",
       "<style scoped>\n",
       "    .dataframe tbody tr th:only-of-type {\n",
       "        vertical-align: middle;\n",
       "    }\n",
       "\n",
       "    .dataframe tbody tr th {\n",
       "        vertical-align: top;\n",
       "    }\n",
       "\n",
       "    .dataframe thead th {\n",
       "        text-align: right;\n",
       "    }\n",
       "</style>\n",
       "<table border=\"1\" class=\"dataframe\">\n",
       "  <thead>\n",
       "    <tr style=\"text-align: right;\">\n",
       "      <th></th>\n",
       "      <th>finding_id</th>\n",
       "      <th>image_id</th>\n",
       "      <th>study_id</th>\n",
       "      <th>pathology</th>\n",
       "      <th>provider</th>\n",
       "    </tr>\n",
       "  </thead>\n",
       "  <tbody>\n",
       "    <tr>\n",
       "      <th>27761</th>\n",
       "      <td>C1</td>\n",
       "      <td>1.2.840.113681.174858545.1366870411.3968.2122</td>\n",
       "      <td>MG130425000199</td>\n",
       "      <td>Apocrine_Metaplasia</td>\n",
       "      <td>sentara</td>\n",
       "    </tr>\n",
       "    <tr>\n",
       "      <th>27758</th>\n",
       "      <td>C1</td>\n",
       "      <td>1.2.840.113681.174858545.1366870411.3968.2111</td>\n",
       "      <td>MG130425000199</td>\n",
       "      <td>Apocrine_Metaplasia</td>\n",
       "      <td>sentara</td>\n",
       "    </tr>\n",
       "    <tr>\n",
       "      <th>93796</th>\n",
       "      <td>A1</td>\n",
       "      <td>1.2.840.113681.2229469590.940.3547286568.185.1</td>\n",
       "      <td>MG130529000207</td>\n",
       "      <td>InvasiveDuctalCarcinoma</td>\n",
       "      <td>sentara</td>\n",
       "    </tr>\n",
       "    <tr>\n",
       "      <th>93795</th>\n",
       "      <td>A1</td>\n",
       "      <td>1.2.840.113681.2229469590.940.3547286568.178.1</td>\n",
       "      <td>MG130529000207</td>\n",
       "      <td>InvasiveDuctalCarcinoma</td>\n",
       "      <td>sentara</td>\n",
       "    </tr>\n",
       "    <tr>\n",
       "      <th>96517</th>\n",
       "      <td>C1</td>\n",
       "      <td>1.2.840.113681.2229444612.1016.3624270449.161.1</td>\n",
       "      <td>MG151106000287</td>\n",
       "      <td>DuctalCarcinomaInSitu</td>\n",
       "      <td>sentara</td>\n",
       "    </tr>\n",
       "    <tr>\n",
       "      <th>...</th>\n",
       "      <td>...</td>\n",
       "      <td>...</td>\n",
       "      <td>...</td>\n",
       "      <td>...</td>\n",
       "      <td>...</td>\n",
       "    </tr>\n",
       "    <tr>\n",
       "      <th>107209</th>\n",
       "      <td>C1</td>\n",
       "      <td>1.2.840.113681.2215629362.2097.3630747234.67.1</td>\n",
       "      <td>MG160120000111</td>\n",
       "      <td>DuctalCarcinomaInSitu</td>\n",
       "      <td>sentara</td>\n",
       "    </tr>\n",
       "    <tr>\n",
       "      <th>122903</th>\n",
       "      <td>A1</td>\n",
       "      <td>1.2.840.113681.2230568404.981.3546503214.362.1</td>\n",
       "      <td>MG130520005072</td>\n",
       "      <td>Apocrine_Metaplasia</td>\n",
       "      <td>sentara</td>\n",
       "    </tr>\n",
       "    <tr>\n",
       "      <th>122904</th>\n",
       "      <td>A1</td>\n",
       "      <td>1.2.840.113681.2230568404.981.3546503214.360.1</td>\n",
       "      <td>MG130520005072</td>\n",
       "      <td>Apocrine_Metaplasia</td>\n",
       "      <td>sentara</td>\n",
       "    </tr>\n",
       "    <tr>\n",
       "      <th>59818</th>\n",
       "      <td>T1</td>\n",
       "      <td>1.2.840.113681.2749806494.1398234480.5476.4750</td>\n",
       "      <td>MG140423003764</td>\n",
       "      <td>DuctalCarcinomaInSitu</td>\n",
       "      <td>sentara</td>\n",
       "    </tr>\n",
       "    <tr>\n",
       "      <th>59819</th>\n",
       "      <td>T1</td>\n",
       "      <td>1.2.840.113681.2749806494.1398234480.5476.4744</td>\n",
       "      <td>MG140423003764</td>\n",
       "      <td>DuctalCarcinomaInSitu</td>\n",
       "      <td>sentara</td>\n",
       "    </tr>\n",
       "  </tbody>\n",
       "</table>\n",
       "<p>3797 rows × 5 columns</p>\n",
       "</div>"
      ],
      "text/plain": [
       "       finding_id                                         image_id  \\\n",
       "27761          C1    1.2.840.113681.174858545.1366870411.3968.2122   \n",
       "27758          C1    1.2.840.113681.174858545.1366870411.3968.2111   \n",
       "93796          A1   1.2.840.113681.2229469590.940.3547286568.185.1   \n",
       "93795          A1   1.2.840.113681.2229469590.940.3547286568.178.1   \n",
       "96517          C1  1.2.840.113681.2229444612.1016.3624270449.161.1   \n",
       "...           ...                                              ...   \n",
       "107209         C1   1.2.840.113681.2215629362.2097.3630747234.67.1   \n",
       "122903         A1   1.2.840.113681.2230568404.981.3546503214.362.1   \n",
       "122904         A1   1.2.840.113681.2230568404.981.3546503214.360.1   \n",
       "59818          T1   1.2.840.113681.2749806494.1398234480.5476.4750   \n",
       "59819          T1   1.2.840.113681.2749806494.1398234480.5476.4744   \n",
       "\n",
       "              study_id                pathology provider  \n",
       "27761   MG130425000199      Apocrine_Metaplasia  sentara  \n",
       "27758   MG130425000199      Apocrine_Metaplasia  sentara  \n",
       "93796   MG130529000207  InvasiveDuctalCarcinoma  sentara  \n",
       "93795   MG130529000207  InvasiveDuctalCarcinoma  sentara  \n",
       "96517   MG151106000287    DuctalCarcinomaInSitu  sentara  \n",
       "...                ...                      ...      ...  \n",
       "107209  MG160120000111    DuctalCarcinomaInSitu  sentara  \n",
       "122903  MG130520005072      Apocrine_Metaplasia  sentara  \n",
       "122904  MG130520005072      Apocrine_Metaplasia  sentara  \n",
       "59818   MG140423003764    DuctalCarcinomaInSitu  sentara  \n",
       "59819   MG140423003764    DuctalCarcinomaInSitu  sentara  \n",
       "\n",
       "[3797 rows x 5 columns]"
      ]
     },
     "execution_count": 2,
     "metadata": {},
     "output_type": "execute_result"
    }
   ],
   "source": [
    "train"
   ]
  },
  {
   "cell_type": "markdown",
   "metadata": {},
   "source": [
    "#### drop \"urgent\" labs that do not exist"
   ]
  },
  {
   "cell_type": "code",
   "execution_count": 2,
   "metadata": {
    "collapsed": true
   },
   "outputs": [],
   "source": [
    "sen_data.drop(columns = [x for x in sen_data if 'Urgent' in x], inplace = True)"
   ]
  },
  {
   "cell_type": "markdown",
   "metadata": {},
   "source": [
    "#### drop/rename some columns"
   ]
  },
  {
   "cell_type": "code",
   "execution_count": 3,
   "metadata": {
    "collapsed": true
   },
   "outputs": [],
   "source": [
    "# drop columns we don't need(studyid and 'infection_current_ind.1')\n",
    "sen_data.drop(['bmi_class_last', 'bmi_class_max'], axis=1, inplace = True)\n",
    "\n",
    "# drop the cancer outcome (michal chorev defined different classes than us)\n",
    "cancer_features = [x for x in sen_data.columns.tolist() if x.startswith('outcome_cancer_type')]\n",
    "sen_data.drop(cancer_features, axis=1, inplace = True)\n",
    "\n",
    "# rename age\n",
    "sen_data.rename(columns = {'birth_date_yearsToInddate': 'age'}, inplace=True)\n",
    "\n",
    "#rename breast density, set it as an outcome variable\n",
    "sen_data.rename(columns = {'breast_density_current': 'outcome_breast_density_current'}, inplace=True)"
   ]
  },
  {
   "cell_type": "markdown",
   "metadata": {},
   "source": [
    "#### fix lab duplicate names"
   ]
  },
  {
   "cell_type": "code",
   "execution_count": 4,
   "metadata": {
    "collapsed": true
   },
   "outputs": [],
   "source": [
    "sen_data.rename(columns=lambda x: re.sub('\\.1$', '_last', x), inplace = True)\n",
    "sen_data.rename(columns=lambda x: re.sub('\\.2$', '_min', x), inplace = True)\n",
    "sen_data.rename(columns=lambda x: re.sub('\\.3$', '_max', x), inplace = True)"
   ]
  },
  {
   "cell_type": "markdown",
   "metadata": {},
   "source": [
    "#### drop prev_birads_cnt to match maccabi"
   ]
  },
  {
   "cell_type": "code",
   "execution_count": 5,
   "metadata": {
    "collapsed": true
   },
   "outputs": [],
   "source": [
    "sen_data.drop(columns = ['prev_birads_cnt'], inplace=True)"
   ]
  },
  {
   "cell_type": "markdown",
   "metadata": {},
   "source": [
    "#### add outcome_calc_biopsy_result based on outcome_biopsy_result_1y and outcome_bc_1y"
   ]
  },
  {
   "cell_type": "code",
   "execution_count": 6,
   "metadata": {
    "collapsed": true
   },
   "outputs": [],
   "source": [
    "sen_data['outcome_calc_biopsy_result'] = sen_data['outcome_biopsy_result_1yr'].map({0: 'A_12', 1: 'B', 3: 'C'})\n",
    "sen_data.loc[sen_data['outcome_bc_1yr'] == 1, 'outcome_calc_biopsy_result'] = 'C'"
   ]
  },
  {
   "cell_type": "markdown",
   "metadata": {},
   "source": [
    "#### fix menopause according to age at event"
   ]
  },
  {
   "cell_type": "code",
   "execution_count": 7,
   "metadata": {
    "collapsed": true
   },
   "outputs": [],
   "source": [
    "# menopause \n",
    "sen_data['menopause_ind'] = np.nan \n",
    "sen_data.loc[(sen_data['menopause_dx_ind'] == 1)|(sen_data['age'] >= sen_data['age_last_menstruation']), 'menopause_ind'] = 1 \n",
    "sen_data.loc[sen_data['age'] < sen_data['age_last_menstruation'], 'menstruation_years'] = np.nan \n",
    "sen_data.loc[sen_data['age'] < sen_data['age_last_menstruation'], 'age_last_menstruation'] = np.nan\n",
    "sen_data.drop(columns=['menopause_dx_ind'], inplace=True) \n",
    "\n",
    "# years between first period and full term pregnancy \n",
    "\n",
    "sen_data['menarche_to_ftp_years'] = sen_data['age_first_childbirth'] - sen_data['age_first_menstruation'] \n",
    "\n",
    "# distinct between zero and unknown number of children\n",
    "sen_data.loc[sen_data['children_cnt'].isna(), 'children_ind'] = np.nan"
   ]
  },
  {
   "cell_type": "code",
   "execution_count": 8,
   "metadata": {
    "collapsed": true
   },
   "outputs": [],
   "source": [
    "sen_data['past_birads_max'] = sen_data[['past_birads', 'past_birads_us']].max(axis='columns') \n",
    "sen_data['past_birads_US_ind'] = (~sen_data[['past_birads_us']].isnull()).any(axis='columns').astype(int)\n",
    "sen_data['past_birads_high_ind'] = (sen_data['past_birads_max'] >= 30).astype(int)\n",
    "sen_data.loc[sen_data['past_birads_max'].isnull(), 'past_birads_high_ind'] = np.nan\n",
    "sen_data['past_birads_US_high_ind'] = ((sen_data['past_birads_us'] >= 30)).astype(int)\n",
    "sen_data.loc[sen_data['past_birads_us'].isnull(), 'past_birads_US_high_ind'] = np.nan\n",
    "\n",
    "sen_data['breast_density_past_high_ind'] = (sen_data['breast_density_past'] >= 3).astype(int)\n",
    "sen_data.loc[sen_data['breast_density_past'].isnull(), 'breast_density_past_high_ind'] = np.nan\n",
    "sen_data['outcome_breast_density_current_high_ind'] = (sen_data['outcome_breast_density_current'] >= 3).astype(int)\n",
    "sen_data.loc[sen_data['outcome_breast_density_current'].isnull(), 'outcome_breast_density_current_high_ind'] = np.nan\n",
    "       \n",
    "       \n",
    "sen_data['family_cancer_2_or_more_ind'] = (sen_data['family_cancer_cnt'] >= 2).astype(int)\n",
    "sen_data.loc[sen_data['family_cancer_cnt'].isnull(), 'family_cancer_2_or_more_ind'] = np.nan\n",
    "       \n",
    "sen_data['complaint_ind_current'] = sen_data[[x for x in sen_data.columns if ('nipple' in x or 'lump' in x or 'disorder' in x)\n",
    "                                  and 'current' in x]].any(axis=1).astype(int)\n",
    "sen_data['complaint_ind_past'] = sen_data[[x for x in sen_data.columns if ('nipple' in x or 'lump' in x or 'disorder' in x)\n",
    "                               and 'past' in x]].any(axis=1).astype(int)\n",
    "sen_data.drop(columns=['past_birads', 'past_birads_us'], inplace=True)\n",
    "sen_data.rename(columns={'outcome_birads': 'outcome_calc_max_birads'}, inplace=True) \n",
    "       \n",
    "# replace BI-RADS in the outcome to a readable format \n",
    "birads_num = [np.nan,0,10,20,30,40,41,42,43,50] \n",
    "birads = [np.nan,0,1, 2, 3, 4, 4, 4, 4, 5] \n",
    "\n",
    "sen_data['outcome_calc_max_birads'].replace(dict(zip(birads_num,birads)),inplace=True)\n",
    "sen_data['past_birads_max'].replace(dict(zip(birads_num,birads)),inplace=True) "
   ]
  },
  {
   "cell_type": "markdown",
   "metadata": {},
   "source": [
    " #### add bmi and dicom tags to sen_data"
   ]
  },
  {
   "cell_type": "code",
   "execution_count": 9,
   "metadata": {
    "collapsed": true
   },
   "outputs": [],
   "source": [
    "sen_data = sen_data.merge(dicom_tags, how='left', on = ['study_id'])"
   ]
  },
  {
   "cell_type": "code",
   "execution_count": 10,
   "metadata": {
    "collapsed": true
   },
   "outputs": [],
   "source": [
    "sen_data = sen_data.merge(bmis, how='left', on = ['study_id'])"
   ]
  },
  {
   "cell_type": "markdown",
   "metadata": {},
   "source": [
    "#### add obesity index"
   ]
  },
  {
   "cell_type": "code",
   "execution_count": 11,
   "metadata": {
    "collapsed": true
   },
   "outputs": [],
   "source": [
    "def fnc(x):\n",
    "    if x<=30:\n",
    "        return 0\n",
    "    elif x>30:\n",
    "        return 1\n",
    "    else:\n",
    "        return np.nan\n",
    "sen_data['obesity_ind'] = sen_data['bmi_current'].apply(fnc)"
   ]
  },
  {
   "cell_type": "markdown",
   "metadata": {},
   "source": [
    "#### add change in bmi, bmi variance and months to first MG exam"
   ]
  },
  {
   "cell_type": "code",
   "execution_count": 12,
   "metadata": {
    "collapsed": true
   },
   "outputs": [],
   "source": [
    "newfeats = vbu.get_change_bmi_and_months_to_first_mg_sentara(df = sen_data)\n",
    "sen_data = pd.merge(sen_data, newfeats, how = 'left', on= ['study_id', 'patient_id'])"
   ]
  },
  {
   "cell_type": "markdown",
   "metadata": {},
   "source": [
    "#### create column for race"
   ]
  },
  {
   "cell_type": "code",
   "execution_count": 13,
   "metadata": {
    "collapsed": true
   },
   "outputs": [],
   "source": [
    "# adjust race ('race:white': 1, 'race:black': 2, 'race:asian': 3, 'race:pacific islander': 4, 'race:other':5)\n",
    "sen_data['race:white'] = sen_data['race:white'].replace(1, 1)\n",
    "sen_data['race:black'] = sen_data['race:black'].replace(1, 2)\n",
    "sen_data['race:asian'] = sen_data['race:asian'].replace(1, 3)\n",
    "sen_data['race:pacific islander'] = sen_data['race:pacific islander'].replace(1, 4)\n",
    "sen_data['race:other'] = sen_data['race:other'].replace(1, 5)\n",
    "\n",
    "sen_data['race'] = sen_data[['race:white', 'race:black', 'race:asian', 'race:pacific islander','race:other' ]].sum(axis=1)\n",
    "\n",
    "sen_data.drop(['race:white', 'race:black', 'race:asian', 'race:pacific islander', \n",
    "              'race:other'], axis=1, inplace = True)"
   ]
  },
  {
   "cell_type": "markdown",
   "metadata": {},
   "source": [
    "#### create column for religion"
   ]
  },
  {
   "cell_type": "code",
   "execution_count": 14,
   "metadata": {
    "collapsed": true
   },
   "outputs": [],
   "source": [
    "# adjust religion ('religion:christian': 1, 'religion:eastern_religions': 2,  'religion:jewish': 3 \n",
    "# 'religion:muslim': 4, 'religion:other' or np.nan :5)\n",
    "\n",
    "sen_data['religion:christian'] = sen_data['religion:christian'].replace(1, 1)\n",
    "sen_data['religion:eastern_religions'] = sen_data['religion:eastern_religions'].replace(1, 2)\n",
    "sen_data['religion:jewish'] = sen_data['religion:jewish'].replace(1, 3)\n",
    "sen_data['religion:muslim'] = sen_data['religion:muslim'].replace(1, 4)\n",
    "sen_data['religion:other'] = sen_data['religion:other'].replace(1, 5)\n",
    "\n",
    "sen_data['religion'] = sen_data[['religion:christian', 'religion:eastern_religions', 'religion:jewish',\n",
    "                              'religion:muslim', 'religion:other']].sum(axis=1)\n",
    "\n",
    "sen_data.drop(['religion:christian', 'religion:eastern_religions', 'religion:jewish',\n",
    "                              'religion:muslim', 'religion:other'], axis=1, inplace = True)\n",
    "# if religion = 0 (did not have value 1 for any of the religions, set to unknown = other = 5\n",
    "sen_data['religion'] = sen_data['religion'].replace(0, 5)"
   ]
  },
  {
   "cell_type": "markdown",
   "metadata": {},
   "source": [
    "#### create cancer class based on pathology: first create a pathology column with each study pathology, and map them to a cancer class"
   ]
  },
  {
   "cell_type": "code",
   "execution_count": 15,
   "metadata": {
    "collapsed": true
   },
   "outputs": [],
   "source": [
    "frame = [train, val, test]\n",
    "patho = pd.concat(frame)\n",
    "\n",
    "studies = patho.study_id.unique().tolist()\n",
    "\n",
    "pathologies = []\n",
    "\n",
    "for s in studies:\n",
    "    pathologies.append(patho[patho['study_id'] == s].pathology.unique().tolist())\n",
    "    \n",
    "\n",
    "d = {'study_id': studies, 'pathology': pathologies}\n",
    "df_patho = pd.DataFrame(data=d)"
   ]
  },
  {
   "cell_type": "code",
   "execution_count": 16,
   "metadata": {
    "collapsed": true
   },
   "outputs": [],
   "source": [
    "buckets = {\n",
    "    'A' : ['DuctalCarcinomaInSitu'],\n",
    "    'B' : ['Papillary_Carcinoma',\n",
    "         'Invasive Mammary Carcinoma',\n",
    "         'Invasive lobular adenocarcinoma',\n",
    "         'MucinousCarcinoma',\n",
    "         'Tubular_Carcinoma',\n",
    "         'Invasive_Lobular_Carcinoma',\n",
    "         'InvasiveDuctalCarcinoma',\n",
    "         'InvasiveDuctalCarcinomaMulticentric',\n",
    "         'invasive ductal adenocarcinoma',\n",
    "         'Squamous cell carcinoma'],\n",
    "    'C' : ['AtypicalDuctalHyperplasia',\n",
    "         'Atypical Lobular Hyperplasia',\n",
    "         'Lobular carcinoma in situ of breast',\n",
    "         'Lobular carcinoma in situ of breast\\\\nLobular carcinoma in situ of breast',\n",
    "         'Columnar_Cell_Lesion',\n",
    "         'Atypia'],\n",
    "    'D' : ['Intraductal papilloma',\n",
    "         'Papilloma',\n",
    "         'Papillomatosis',\n",
    "         'PhyllodesTumor',\n",
    "         'Radial_Scar',\n",
    "         'SclerosingPapilloma',\n",
    "         'papillary lesion'],\n",
    "    'E' : ['Angiolipoma',\n",
    "         'Apocrine_Metaplasia',\n",
    "         'Cyst of breast',\n",
    "         'Edema Of Breast',\n",
    "         'FatNecrosis',\n",
    "         'Fibroadenoma',\n",
    "         'fibroadenomatoid nodule',\n",
    "         'FibrocysticChange',\n",
    "         'Fibromatosis',\n",
    "         'Fibrosis',\n",
    "         'Granular_Cell_Tumor',\n",
    "         'Gynecomastia',\n",
    "         'Fibroadenolipoma',\n",
    "         'Hematoma',\n",
    "         'Usual Ductal Hyperplasia',\n",
    "         'IntramammaryLymphNode',\n",
    "         'Lipoma',\n",
    "         'Lymph Node',\n",
    "         'Mastitis',\n",
    "         'OilCyst',\n",
    "         'PseudoangiomatousStromalHyperplasia',\n",
    "         'ScarTissue',\n",
    "         'Sclerosing_Adenosis',\n",
    "         'Seroma',\n",
    "         'Complex_Cyst',\n",
    "         'Complicated_Cyst',\n",
    "         'Inflamed_Cyst',\n",
    "         'Reactive Lymph Node',\n",
    "         'Sebaceous cyst of skin of breast',\n",
    "         'SimpleCyst',\n",
    "         'benign breast tissue',\n",
    "         'dense stromal fibrosis',\n",
    "         'focal fibroadenomatoid change',\n",
    "         'Plasma cell mastitis',\n",
    "         'Angiomatosis',\n",
    "         'Lactating_Adenoma',\n",
    "         'Myofibroblastoma',\n",
    "         'Lymphoid hyperplasia',\n",
    "         'Neoplasm of skin of breast',\n",
    "         'Granuloma',\n",
    "         'DuctalAdenoma',\n",
    "         'Fibrosing adenosis',\n",
    "         'Follicle cyst',\n",
    "         'Complicated_Cyst',\n",
    "         'Mammary duct ectasia',\n",
    "         'Ruptured keratious cyst',\n",
    "         'Seborrhoeic keratosis']\n",
    "}"
   ]
  },
  {
   "cell_type": "code",
   "execution_count": 17,
   "metadata": {},
   "outputs": [
    {
     "data": {
      "text/html": [
       "<div>\n",
       "<style scoped>\n",
       "    .dataframe tbody tr th:only-of-type {\n",
       "        vertical-align: middle;\n",
       "    }\n",
       "\n",
       "    .dataframe tbody tr th {\n",
       "        vertical-align: top;\n",
       "    }\n",
       "\n",
       "    .dataframe thead th {\n",
       "        text-align: right;\n",
       "    }\n",
       "</style>\n",
       "<table border=\"1\" class=\"dataframe\">\n",
       "  <thead>\n",
       "    <tr style=\"text-align: right;\">\n",
       "      <th></th>\n",
       "      <th>study_id</th>\n",
       "      <th>outcome_cancer_type_DCIS</th>\n",
       "      <th>outcome_cancer_type_Invasive</th>\n",
       "      <th>outcome_cancer_type_BenignHR</th>\n",
       "      <th>outcome_cancer_type_Papilloma</th>\n",
       "      <th>outcome_cancer_type_Benign</th>\n",
       "    </tr>\n",
       "  </thead>\n",
       "  <tbody>\n",
       "    <tr>\n",
       "      <th>0</th>\n",
       "      <td>MG130425000199</td>\n",
       "      <td>0</td>\n",
       "      <td>0</td>\n",
       "      <td>0</td>\n",
       "      <td>0</td>\n",
       "      <td>1</td>\n",
       "    </tr>\n",
       "    <tr>\n",
       "      <th>1</th>\n",
       "      <td>MG130529000207</td>\n",
       "      <td>0</td>\n",
       "      <td>1</td>\n",
       "      <td>0</td>\n",
       "      <td>0</td>\n",
       "      <td>0</td>\n",
       "    </tr>\n",
       "    <tr>\n",
       "      <th>2</th>\n",
       "      <td>MG151106000287</td>\n",
       "      <td>1</td>\n",
       "      <td>0</td>\n",
       "      <td>0</td>\n",
       "      <td>0</td>\n",
       "      <td>0</td>\n",
       "    </tr>\n",
       "    <tr>\n",
       "      <th>3</th>\n",
       "      <td>MG161024000239</td>\n",
       "      <td>0</td>\n",
       "      <td>0</td>\n",
       "      <td>0</td>\n",
       "      <td>0</td>\n",
       "      <td>1</td>\n",
       "    </tr>\n",
       "    <tr>\n",
       "      <th>4</th>\n",
       "      <td>MG170410005194</td>\n",
       "      <td>0</td>\n",
       "      <td>1</td>\n",
       "      <td>0</td>\n",
       "      <td>0</td>\n",
       "      <td>0</td>\n",
       "    </tr>\n",
       "  </tbody>\n",
       "</table>\n",
       "</div>"
      ],
      "text/plain": [
       "         study_id  outcome_cancer_type_DCIS  outcome_cancer_type_Invasive  \\\n",
       "0  MG130425000199                         0                             0   \n",
       "1  MG130529000207                         0                             1   \n",
       "2  MG151106000287                         1                             0   \n",
       "3  MG161024000239                         0                             0   \n",
       "4  MG170410005194                         0                             1   \n",
       "\n",
       "   outcome_cancer_type_BenignHR  outcome_cancer_type_Papilloma  \\\n",
       "0                             0                              0   \n",
       "1                             0                              0   \n",
       "2                             0                              0   \n",
       "3                             0                              0   \n",
       "4                             0                              0   \n",
       "\n",
       "   outcome_cancer_type_Benign  \n",
       "0                           1  \n",
       "1                           0  \n",
       "2                           0  \n",
       "3                           1  \n",
       "4                           0  "
      ]
     },
     "execution_count": 17,
     "metadata": {},
     "output_type": "execute_result"
    }
   ],
   "source": [
    "# Binarize labels into multiple columns\n",
    "df_patho['outcome_cancer_type_DCIS'] = df_patho['pathology'].map(lambda x: 1 if any(check in x for check in buckets['A']) else 0)\n",
    "df_patho['outcome_cancer_type_Invasive'] = df_patho['pathology'].map(lambda x: 1 if any(check in x for check in buckets['B']) else 0)\n",
    "df_patho['outcome_cancer_type_BenignHR'] = df_patho['pathology'].map(lambda x: 1 if any(check in x for check in buckets['C']) else 0)\n",
    "df_patho['outcome_cancer_type_Papilloma'] = df_patho['pathology'].map(lambda x: 1 if any(check in x for check in buckets['D']) else 0)\n",
    "df_patho['outcome_cancer_type_Benign'] = df_patho['pathology'].map(lambda x: 1 if any(check in x for check in buckets['E']) else 0)\n",
    "\n",
    "\n",
    "# No longer need processed_path column\n",
    "df_patho = df_patho.drop(['pathology'], axis=1)\n",
    "df_patho.head()"
   ]
  },
  {
   "cell_type": "code",
   "execution_count": 18,
   "metadata": {
    "collapsed": true
   },
   "outputs": [],
   "source": [
    "# Merge with sen_data\n",
    "sen_data['study_id'] = sen_data['study_id'].astype(object)\n",
    "df_patho['study_id'] = df_patho['study_id'].astype(object)\n",
    "\n",
    "sen_data = sen_data.merge(df_patho, on = ['study_id'])"
   ]
  },
  {
   "cell_type": "code",
   "execution_count": 19,
   "metadata": {
    "collapsed": true
   },
   "outputs": [],
   "source": [
    "sen_data.to_csv('../input_files/fx_sentara_cohort_processed.csv')"
   ]
  },
  {
   "cell_type": "code",
   "execution_count": null,
   "metadata": {
    "collapsed": true
   },
   "outputs": [],
   "source": []
  }
 ],
 "metadata": {
  "kernelspec": {
   "display_name": "Python 3 (ipykernel)",
   "language": "python",
   "name": "python3"
  },
  "language_info": {
   "codemirror_mode": {
    "name": "ipython",
    "version": 3
   },
   "file_extension": ".py",
   "mimetype": "text/x-python",
   "name": "python",
   "nbconvert_exporter": "python",
   "pygments_lexer": "ipython3",
   "version": "3.9.7"
  }
 },
 "nbformat": 4,
 "nbformat_minor": 4
}
